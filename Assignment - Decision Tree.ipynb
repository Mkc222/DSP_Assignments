{
 "cells": [
  {
   "cell_type": "code",
   "execution_count": 1,
   "metadata": {},
   "outputs": [],
   "source": [
    "import pandas as pd"
   ]
  },
  {
   "cell_type": "code",
   "execution_count": 2,
   "metadata": {},
   "outputs": [],
   "source": [
    "balloon_data = pd.read_csv(\"yellow-small+adult-stretch.data\", names=['color','size','act','age','inflated'])"
   ]
  },
  {
   "cell_type": "code",
   "execution_count": 3,
   "metadata": {},
   "outputs": [
    {
     "data": {
      "text/html": [
       "<div>\n",
       "<style scoped>\n",
       "    .dataframe tbody tr th:only-of-type {\n",
       "        vertical-align: middle;\n",
       "    }\n",
       "\n",
       "    .dataframe tbody tr th {\n",
       "        vertical-align: top;\n",
       "    }\n",
       "\n",
       "    .dataframe thead th {\n",
       "        text-align: right;\n",
       "    }\n",
       "</style>\n",
       "<table border=\"1\" class=\"dataframe\">\n",
       "  <thead>\n",
       "    <tr style=\"text-align: right;\">\n",
       "      <th></th>\n",
       "      <th>color</th>\n",
       "      <th>size</th>\n",
       "      <th>act</th>\n",
       "      <th>age</th>\n",
       "      <th>inflated</th>\n",
       "    </tr>\n",
       "  </thead>\n",
       "  <tbody>\n",
       "    <tr>\n",
       "      <th>0</th>\n",
       "      <td>YELLOW</td>\n",
       "      <td>SMALL</td>\n",
       "      <td>STRETCH</td>\n",
       "      <td>ADULT</td>\n",
       "      <td>T</td>\n",
       "    </tr>\n",
       "    <tr>\n",
       "      <th>1</th>\n",
       "      <td>YELLOW</td>\n",
       "      <td>SMALL</td>\n",
       "      <td>STRETCH</td>\n",
       "      <td>CHILD</td>\n",
       "      <td>T</td>\n",
       "    </tr>\n",
       "    <tr>\n",
       "      <th>2</th>\n",
       "      <td>YELLOW</td>\n",
       "      <td>SMALL</td>\n",
       "      <td>DIP</td>\n",
       "      <td>ADULT</td>\n",
       "      <td>T</td>\n",
       "    </tr>\n",
       "    <tr>\n",
       "      <th>3</th>\n",
       "      <td>YELLOW</td>\n",
       "      <td>SMALL</td>\n",
       "      <td>DIP</td>\n",
       "      <td>CHILD</td>\n",
       "      <td>T</td>\n",
       "    </tr>\n",
       "    <tr>\n",
       "      <th>4</th>\n",
       "      <td>YELLOW</td>\n",
       "      <td>LARGE</td>\n",
       "      <td>STRETCH</td>\n",
       "      <td>ADULT</td>\n",
       "      <td>T</td>\n",
       "    </tr>\n",
       "    <tr>\n",
       "      <th>5</th>\n",
       "      <td>YELLOW</td>\n",
       "      <td>LARGE</td>\n",
       "      <td>STRETCH</td>\n",
       "      <td>CHILD</td>\n",
       "      <td>F</td>\n",
       "    </tr>\n",
       "    <tr>\n",
       "      <th>6</th>\n",
       "      <td>YELLOW</td>\n",
       "      <td>LARGE</td>\n",
       "      <td>DIP</td>\n",
       "      <td>ADULT</td>\n",
       "      <td>F</td>\n",
       "    </tr>\n",
       "    <tr>\n",
       "      <th>7</th>\n",
       "      <td>YELLOW</td>\n",
       "      <td>LARGE</td>\n",
       "      <td>DIP</td>\n",
       "      <td>CHILD</td>\n",
       "      <td>F</td>\n",
       "    </tr>\n",
       "    <tr>\n",
       "      <th>8</th>\n",
       "      <td>PURPLE</td>\n",
       "      <td>SMALL</td>\n",
       "      <td>STRETCH</td>\n",
       "      <td>ADULT</td>\n",
       "      <td>T</td>\n",
       "    </tr>\n",
       "    <tr>\n",
       "      <th>9</th>\n",
       "      <td>PURPLE</td>\n",
       "      <td>SMALL</td>\n",
       "      <td>STRETCH</td>\n",
       "      <td>CHILD</td>\n",
       "      <td>F</td>\n",
       "    </tr>\n",
       "    <tr>\n",
       "      <th>10</th>\n",
       "      <td>PURPLE</td>\n",
       "      <td>SMALL</td>\n",
       "      <td>DIP</td>\n",
       "      <td>ADULT</td>\n",
       "      <td>F</td>\n",
       "    </tr>\n",
       "    <tr>\n",
       "      <th>11</th>\n",
       "      <td>PURPLE</td>\n",
       "      <td>SMALL</td>\n",
       "      <td>DIP</td>\n",
       "      <td>CHILD</td>\n",
       "      <td>F</td>\n",
       "    </tr>\n",
       "    <tr>\n",
       "      <th>12</th>\n",
       "      <td>PURPLE</td>\n",
       "      <td>LARGE</td>\n",
       "      <td>STRETCH</td>\n",
       "      <td>ADULT</td>\n",
       "      <td>T</td>\n",
       "    </tr>\n",
       "    <tr>\n",
       "      <th>13</th>\n",
       "      <td>PURPLE</td>\n",
       "      <td>LARGE</td>\n",
       "      <td>STRETCH</td>\n",
       "      <td>CHILD</td>\n",
       "      <td>F</td>\n",
       "    </tr>\n",
       "    <tr>\n",
       "      <th>14</th>\n",
       "      <td>PURPLE</td>\n",
       "      <td>LARGE</td>\n",
       "      <td>DIP</td>\n",
       "      <td>ADULT</td>\n",
       "      <td>F</td>\n",
       "    </tr>\n",
       "    <tr>\n",
       "      <th>15</th>\n",
       "      <td>PURPLE</td>\n",
       "      <td>LARGE</td>\n",
       "      <td>DIP</td>\n",
       "      <td>CHILD</td>\n",
       "      <td>F</td>\n",
       "    </tr>\n",
       "  </tbody>\n",
       "</table>\n",
       "</div>"
      ],
      "text/plain": [
       "     color   size      act    age inflated\n",
       "0   YELLOW  SMALL  STRETCH  ADULT        T\n",
       "1   YELLOW  SMALL  STRETCH  CHILD        T\n",
       "2   YELLOW  SMALL      DIP  ADULT        T\n",
       "3   YELLOW  SMALL      DIP  CHILD        T\n",
       "4   YELLOW  LARGE  STRETCH  ADULT        T\n",
       "5   YELLOW  LARGE  STRETCH  CHILD        F\n",
       "6   YELLOW  LARGE      DIP  ADULT        F\n",
       "7   YELLOW  LARGE      DIP  CHILD        F\n",
       "8   PURPLE  SMALL  STRETCH  ADULT        T\n",
       "9   PURPLE  SMALL  STRETCH  CHILD        F\n",
       "10  PURPLE  SMALL      DIP  ADULT        F\n",
       "11  PURPLE  SMALL      DIP  CHILD        F\n",
       "12  PURPLE  LARGE  STRETCH  ADULT        T\n",
       "13  PURPLE  LARGE  STRETCH  CHILD        F\n",
       "14  PURPLE  LARGE      DIP  ADULT        F\n",
       "15  PURPLE  LARGE      DIP  CHILD        F"
      ]
     },
     "execution_count": 3,
     "metadata": {},
     "output_type": "execute_result"
    }
   ],
   "source": [
    "balloon_data"
   ]
  },
  {
   "cell_type": "markdown",
   "metadata": {},
   "source": [
    "## Task 1: Understandin the data"
   ]
  },
  {
   "cell_type": "code",
   "execution_count": 4,
   "metadata": {},
   "outputs": [
    {
     "data": {
      "text/plain": [
       "PURPLE    8\n",
       "YELLOW    8\n",
       "Name: color, dtype: int64"
      ]
     },
     "execution_count": 4,
     "metadata": {},
     "output_type": "execute_result"
    }
   ],
   "source": [
    "balloon_data.color.value_counts()"
   ]
  },
  {
   "cell_type": "code",
   "execution_count": 5,
   "metadata": {},
   "outputs": [
    {
     "data": {
      "text/plain": [
       "SMALL    8\n",
       "LARGE    8\n",
       "Name: size, dtype: int64"
      ]
     },
     "execution_count": 5,
     "metadata": {},
     "output_type": "execute_result"
    }
   ],
   "source": [
    "balloon_data['size'].value_counts()"
   ]
  },
  {
   "cell_type": "code",
   "execution_count": 6,
   "metadata": {},
   "outputs": [
    {
     "data": {
      "text/plain": [
       "DIP        8\n",
       "STRETCH    8\n",
       "Name: act, dtype: int64"
      ]
     },
     "execution_count": 6,
     "metadata": {},
     "output_type": "execute_result"
    }
   ],
   "source": [
    "balloon_data['act'].value_counts()"
   ]
  },
  {
   "cell_type": "code",
   "execution_count": 7,
   "metadata": {},
   "outputs": [
    {
     "data": {
      "text/plain": [
       "CHILD    8\n",
       "ADULT    8\n",
       "Name: age, dtype: int64"
      ]
     },
     "execution_count": 7,
     "metadata": {},
     "output_type": "execute_result"
    }
   ],
   "source": [
    "balloon_data['age'].value_counts()"
   ]
  },
  {
   "cell_type": "code",
   "execution_count": 8,
   "metadata": {},
   "outputs": [
    {
     "data": {
      "text/plain": [
       "F    9\n",
       "T    7\n",
       "Name: inflated, dtype: int64"
      ]
     },
     "execution_count": 8,
     "metadata": {},
     "output_type": "execute_result"
    }
   ],
   "source": [
    "balloon_data['inflated'].value_counts()"
   ]
  },
  {
   "cell_type": "markdown",
   "metadata": {},
   "source": [
    "* 50% of the balloons are yellow and 50% are purple in color\n",
    "* 50% of the balloons are small and 50% are large in size\n",
    "* 50% of the balloons are stretched and 50% are dip\n",
    "* 50% of the balloons are for child and 50% are for adult.\n",
    "* Of total 16 balloons 9 are not inflated and 7 are inflated"
   ]
  },
  {
   "cell_type": "markdown",
   "metadata": {},
   "source": [
    "# Task 2: Manually - Generate Decision Tree using Information Gain & Gini Impurity "
   ]
  },
  {
   "cell_type": "code",
   "execution_count": 12,
   "metadata": {},
   "outputs": [],
   "source": [
    "# encode the data set using ordinal encoder.\n",
    "from sklearn.preprocessing import OrdinalEncoder\n",
    "ord_enc = OrdinalEncoder()\n",
    "encoded_data = ord_enc.fit_transform(balloon_data)\n",
    "# encoded data is a numpy array\n",
    "# convert the data to dataframe\n",
    "data = pd.DataFrame(encoded_data, columns=['color','size','act','age','inflated'], dtype=int)"
   ]
  },
  {
   "cell_type": "code",
   "execution_count": 13,
   "metadata": {},
   "outputs": [
    {
     "data": {
      "text/html": [
       "<div>\n",
       "<style scoped>\n",
       "    .dataframe tbody tr th:only-of-type {\n",
       "        vertical-align: middle;\n",
       "    }\n",
       "\n",
       "    .dataframe tbody tr th {\n",
       "        vertical-align: top;\n",
       "    }\n",
       "\n",
       "    .dataframe thead th {\n",
       "        text-align: right;\n",
       "    }\n",
       "</style>\n",
       "<table border=\"1\" class=\"dataframe\">\n",
       "  <thead>\n",
       "    <tr style=\"text-align: right;\">\n",
       "      <th></th>\n",
       "      <th>color</th>\n",
       "      <th>size</th>\n",
       "      <th>act</th>\n",
       "      <th>age</th>\n",
       "      <th>inflated</th>\n",
       "    </tr>\n",
       "  </thead>\n",
       "  <tbody>\n",
       "    <tr>\n",
       "      <th>0</th>\n",
       "      <td>1</td>\n",
       "      <td>1</td>\n",
       "      <td>1</td>\n",
       "      <td>0</td>\n",
       "      <td>1</td>\n",
       "    </tr>\n",
       "    <tr>\n",
       "      <th>1</th>\n",
       "      <td>1</td>\n",
       "      <td>1</td>\n",
       "      <td>1</td>\n",
       "      <td>1</td>\n",
       "      <td>1</td>\n",
       "    </tr>\n",
       "    <tr>\n",
       "      <th>2</th>\n",
       "      <td>1</td>\n",
       "      <td>1</td>\n",
       "      <td>0</td>\n",
       "      <td>0</td>\n",
       "      <td>1</td>\n",
       "    </tr>\n",
       "    <tr>\n",
       "      <th>3</th>\n",
       "      <td>1</td>\n",
       "      <td>1</td>\n",
       "      <td>0</td>\n",
       "      <td>1</td>\n",
       "      <td>1</td>\n",
       "    </tr>\n",
       "    <tr>\n",
       "      <th>4</th>\n",
       "      <td>1</td>\n",
       "      <td>0</td>\n",
       "      <td>1</td>\n",
       "      <td>0</td>\n",
       "      <td>1</td>\n",
       "    </tr>\n",
       "    <tr>\n",
       "      <th>5</th>\n",
       "      <td>1</td>\n",
       "      <td>0</td>\n",
       "      <td>1</td>\n",
       "      <td>1</td>\n",
       "      <td>0</td>\n",
       "    </tr>\n",
       "    <tr>\n",
       "      <th>6</th>\n",
       "      <td>1</td>\n",
       "      <td>0</td>\n",
       "      <td>0</td>\n",
       "      <td>0</td>\n",
       "      <td>0</td>\n",
       "    </tr>\n",
       "    <tr>\n",
       "      <th>7</th>\n",
       "      <td>1</td>\n",
       "      <td>0</td>\n",
       "      <td>0</td>\n",
       "      <td>1</td>\n",
       "      <td>0</td>\n",
       "    </tr>\n",
       "    <tr>\n",
       "      <th>8</th>\n",
       "      <td>0</td>\n",
       "      <td>1</td>\n",
       "      <td>1</td>\n",
       "      <td>0</td>\n",
       "      <td>1</td>\n",
       "    </tr>\n",
       "    <tr>\n",
       "      <th>9</th>\n",
       "      <td>0</td>\n",
       "      <td>1</td>\n",
       "      <td>1</td>\n",
       "      <td>1</td>\n",
       "      <td>0</td>\n",
       "    </tr>\n",
       "    <tr>\n",
       "      <th>10</th>\n",
       "      <td>0</td>\n",
       "      <td>1</td>\n",
       "      <td>0</td>\n",
       "      <td>0</td>\n",
       "      <td>0</td>\n",
       "    </tr>\n",
       "    <tr>\n",
       "      <th>11</th>\n",
       "      <td>0</td>\n",
       "      <td>1</td>\n",
       "      <td>0</td>\n",
       "      <td>1</td>\n",
       "      <td>0</td>\n",
       "    </tr>\n",
       "    <tr>\n",
       "      <th>12</th>\n",
       "      <td>0</td>\n",
       "      <td>0</td>\n",
       "      <td>1</td>\n",
       "      <td>0</td>\n",
       "      <td>1</td>\n",
       "    </tr>\n",
       "    <tr>\n",
       "      <th>13</th>\n",
       "      <td>0</td>\n",
       "      <td>0</td>\n",
       "      <td>1</td>\n",
       "      <td>1</td>\n",
       "      <td>0</td>\n",
       "    </tr>\n",
       "    <tr>\n",
       "      <th>14</th>\n",
       "      <td>0</td>\n",
       "      <td>0</td>\n",
       "      <td>0</td>\n",
       "      <td>0</td>\n",
       "      <td>0</td>\n",
       "    </tr>\n",
       "    <tr>\n",
       "      <th>15</th>\n",
       "      <td>0</td>\n",
       "      <td>0</td>\n",
       "      <td>0</td>\n",
       "      <td>1</td>\n",
       "      <td>0</td>\n",
       "    </tr>\n",
       "  </tbody>\n",
       "</table>\n",
       "</div>"
      ],
      "text/plain": [
       "    color  size  act  age  inflated\n",
       "0       1     1    1    0         1\n",
       "1       1     1    1    1         1\n",
       "2       1     1    0    0         1\n",
       "3       1     1    0    1         1\n",
       "4       1     0    1    0         1\n",
       "5       1     0    1    1         0\n",
       "6       1     0    0    0         0\n",
       "7       1     0    0    1         0\n",
       "8       0     1    1    0         1\n",
       "9       0     1    1    1         0\n",
       "10      0     1    0    0         0\n",
       "11      0     1    0    1         0\n",
       "12      0     0    1    0         1\n",
       "13      0     0    1    1         0\n",
       "14      0     0    0    0         0\n",
       "15      0     0    0    1         0"
      ]
     },
     "execution_count": 13,
     "metadata": {},
     "output_type": "execute_result"
    }
   ],
   "source": [
    "data"
   ]
  },
  {
   "cell_type": "markdown",
   "metadata": {},
   "source": [
    "## Gini Gain"
   ]
  },
  {
   "cell_type": "code",
   "execution_count": 60,
   "metadata": {},
   "outputs": [],
   "source": [
    "class DTreeClassifierGini():\n",
    "    \n",
    "    def __init__(self):\n",
    "        self.feature_ranges = {}   # This will store all the possible dicision boundary for every feature\n",
    "        \n",
    "    # Method to create decisions\n",
    "    def create_decision(self, featured_data):\n",
    "        \n",
    "        for column in featured_data.columns:\n",
    "            ranges = []  # this will store all the possible decision boundaries for a particular column of feature\n",
    "            i = 0.5      # A minimum fixed decision boundary\n",
    "            \n",
    "            cat_max = featured_data[column].max()   # maximum value of a given feature\n",
    "            \n",
    "            # below block of code will identify all the decision boundary\n",
    "            while i < cat_max:\n",
    "                ranges.append(i)\n",
    "                i += 1   # increase i by one\n",
    "                \n",
    "            self.feature_ranges[column] = ranges   # all decision boundary for the column is stored in feature_ranges\n",
    "        \n",
    "        decisions = list(self.feature_ranges.items())   # list of (feature, list of decision boundary or buckets)\n",
    "        \n",
    "        self.decisions = []  # this will store all possible (feature, one decision) and this task will be done by below block of code\n",
    "        \n",
    "        for feature, dec_boundaries in decisions:\n",
    "            for decision in dec_boundaries:\n",
    "                self.decisions.append((feature, decision))\n",
    "                \n",
    "    # Method to calculate gini value\n",
    "    def calculate_gini(self, target):\n",
    "        total_values = len(target)   # total records\n",
    "        \n",
    "        count_diff_target_value = list(target.value_counts().values)\n",
    "        \n",
    "        gini = 0   # initialize gini as zero\n",
    "        \n",
    "        for value_count in count_diff_target_value:\n",
    "            gini += (value_count/total_values) * (1 - (value_count/total_values))   # formula to calculate gini value\n",
    "        \n",
    "        return gini\n",
    "    \n",
    "    \n",
    "    # Method to select decisions\n",
    "    def select_decision(self, data):\n",
    "        gini_before_split = self.calculate_gini(data.target)\n",
    "        if gini_before_split == 0:\n",
    "            return\n",
    "        # print('***Gini before split***: ', gini_before_split)\n",
    "        \n",
    "        max_gini_gain = 0   # initialize max gini gain as zero\n",
    "        \n",
    "        for feature, value in self.decisions:\n",
    "            \n",
    "            left_data = data[data[feature] < value]  # left node of the tree after split\n",
    "            \n",
    "            left_data_gini = self.calculate_gini(left_data.target)  # gini calculation for left node\n",
    "            \n",
    "            right_data = data[data[feature] > value]   # right node of the tree after split\n",
    "            \n",
    "            right_data_gini = self.calculate_gini(right_data.target)  # gini calculation for right node\n",
    "            \n",
    "            # formula to calculate gini after split\n",
    "            gini_after_split = (left_data.shape[0]/data.shape[0]) * left_data_gini + (right_data.shape[0]/data.shape[0]) * right_data_gini\n",
    "            \n",
    "            gini_gain = gini_before_split - gini_after_split\n",
    "            \n",
    "            # this block of code will find the best split\n",
    "            if gini_gain > max_gini_gain:\n",
    "                max_gini_gain = gini_gain\n",
    "                \n",
    "                best_left_data = left_data\n",
    "                \n",
    "                best_right_data = right_data\n",
    "                \n",
    "                best_feature = feature\n",
    "                \n",
    "                best_decision = value\n",
    "                \n",
    "        print(\"Gini Before Split: \", gini_before_split)\n",
    "                \n",
    "        print(\"Best Feature: \", best_feature, \", \", 'Best Decision: ', best_decision)\n",
    "        \n",
    "       # print('Gini value left: ', left_data_gini)\n",
    "        \n",
    "        self.select_decision(best_left_data)   # select decision for left node\n",
    "        \n",
    "        print('Gini value left: ', left_data_gini)\n",
    "        \n",
    "        #print('Gini value right: ', right_data_gini)\n",
    "        \n",
    "        self.select_decision(best_right_data)  # select decision for right node\n",
    "        \n",
    "        print('Gini value right: ', right_data_gini)\n",
    "        \n",
    "    # Method to fit the data\n",
    "    def fit_data(self, feature_data, target_data):\n",
    "        \n",
    "        feature_data['target'] = target_data\n",
    "        data = feature_data\n",
    "        self.select_decision(data)\n",
    "                \n",
    "                \n",
    "            "
   ]
  },
  {
   "cell_type": "code",
   "execution_count": 61,
   "metadata": {},
   "outputs": [],
   "source": [
    "dtree = DTreeClassifierGini()"
   ]
  },
  {
   "cell_type": "code",
   "execution_count": 62,
   "metadata": {},
   "outputs": [],
   "source": [
    "dtree.create_decision(data.drop(columns=['inflated']))"
   ]
  },
  {
   "cell_type": "code",
   "execution_count": 63,
   "metadata": {},
   "outputs": [
    {
     "name": "stdout",
     "output_type": "stream",
     "text": [
      "Gini Before Split:  0.4921875\n",
      "Best Feature:  color ,  Best Decision:  0.5\n",
      "Gini Before Split:  0.375\n",
      "Best Feature:  act ,  Best Decision:  0.5\n",
      "Gini value left:  0.5\n",
      "Gini Before Split:  0.5\n",
      "Best Feature:  age ,  Best Decision:  0.5\n",
      "Gini value left:  0.0\n",
      "Gini value right:  0.0\n",
      "Gini value right:  0.0\n",
      "Gini value left:  0.46875\n",
      "Gini Before Split:  0.46875\n",
      "Best Feature:  size ,  Best Decision:  0.5\n",
      "Gini Before Split:  0.375\n",
      "Best Feature:  act ,  Best Decision:  0.5\n",
      "Gini value left:  0.5\n",
      "Gini Before Split:  0.5\n",
      "Best Feature:  age ,  Best Decision:  0.5\n",
      "Gini value left:  0.0\n",
      "Gini value right:  0.0\n",
      "Gini value right:  0.0\n",
      "Gini value left:  0.375\n",
      "Gini value right:  0.5\n",
      "Gini value right:  0.375\n"
     ]
    }
   ],
   "source": [
    "dtree.fit_data(data.drop(columns=['inflated']), data.inflated)"
   ]
  },
  {
   "cell_type": "markdown",
   "metadata": {},
   "source": [
    "## Information gain"
   ]
  },
  {
   "cell_type": "code",
   "execution_count": 51,
   "metadata": {},
   "outputs": [],
   "source": [
    "import numpy as np"
   ]
  },
  {
   "cell_type": "code",
   "execution_count": 77,
   "metadata": {},
   "outputs": [],
   "source": [
    "class DTreeClassifierEntropy():\n",
    "    \n",
    "    def __init__(self):\n",
    "        self.feature_ranges = {}   # This will store all the possible dicision boundary for every feature\n",
    "        \n",
    "    # Method to create decisions\n",
    "    def create_decision(self, featured_data):\n",
    "        \n",
    "        for column in featured_data.columns:\n",
    "            ranges = []  # this will store all the possible decision boundaries for a particular column of feature\n",
    "            i = 0.5      # A minimum fixed decision boundary\n",
    "            \n",
    "            cat_max = featured_data[column].max()   # maximum value of a given feature\n",
    "            \n",
    "            # below block of code will identify all the decision boundary\n",
    "            while i < cat_max:\n",
    "                ranges.append(i)\n",
    "                i += 1   # increase i by one\n",
    "                \n",
    "            self.feature_ranges[column] = ranges   # all decision boundary for the column is stored in feature_ranges\n",
    "        \n",
    "        decisions = list(self.feature_ranges.items())   # list of (feature, list of decision boundary or buckets)\n",
    "        \n",
    "        self.decisions = []  # this will store all possible (feature, one decision) and this task will be done by below block of code\n",
    "        \n",
    "        for feature, dec_boundaries in decisions:\n",
    "            for decision in dec_boundaries:\n",
    "                self.decisions.append((feature, decision))\n",
    "                \n",
    "    # Method to calculate entropy\n",
    "    def calculate_entropy(self, target):\n",
    "        total_values = len(target)   # total records\n",
    "        \n",
    "        count_diff_target_value = list(target.value_counts().values)\n",
    "        \n",
    "        entropy = 0   # initialize entropy as zero\n",
    "        \n",
    "        for value_count in count_diff_target_value:\n",
    "            entropy += (value_count/total_values) * np.log2(value_count/total_values)   # formula to calculate entropy value\n",
    "        \n",
    "        if entropy < 0:\n",
    "            return -entropy\n",
    "        return entropy\n",
    "    \n",
    "    \n",
    "    # Method to select decisions\n",
    "    def select_decision(self, data):\n",
    "        entropy_before_split = self.calculate_entropy(data.target)\n",
    "        if entropy_before_split == 0:\n",
    "            return\n",
    "        \n",
    "        max_info_gain = 0   # initialize max info gain as zero\n",
    "        \n",
    "        for feature, value in self.decisions:\n",
    "            \n",
    "            left_data = data[data[feature] < value]  # left node of the tree after split\n",
    "            \n",
    "            left_data_entropy = self.calculate_entropy(left_data.target)  # gini calculation for left node\n",
    "            \n",
    "            right_data = data[data[feature] > value]   # right node of the tree after split\n",
    "            \n",
    "            right_data_entropy = self.calculate_entropy(right_data.target)  # gini calculation for right node\n",
    "            \n",
    "            # formula to calculate entropy after split\n",
    "            entropy_after_split = (left_data.shape[0]/data.shape[0]) * left_data_entropy + (right_data.shape[0]/data.shape[0]) * right_data_entropy\n",
    "            \n",
    "            info_gain = entropy_before_split - entropy_after_split\n",
    "            \n",
    "            # this block of code will find the best split\n",
    "            if info_gain > max_info_gain:\n",
    "                max_info_gain = info_gain\n",
    "                \n",
    "                best_left_data = left_data\n",
    "                \n",
    "                best_right_data = right_data\n",
    "                \n",
    "                best_feature = feature\n",
    "                \n",
    "                best_decision = value\n",
    "            \"\"\"else:\n",
    "                best_left_data = left_data\n",
    "                \n",
    "                best_right_data = right_data\n",
    "                \n",
    "                best_feature = feature\n",
    "                \n",
    "                best_decision = value\"\"\"\n",
    "                \n",
    "                \n",
    "        print(\"Entropy Before Split: \", entropy_before_split)\n",
    "                \n",
    "        print(\"Best Feature: \", best_feature, \", \", 'Best Decision: ', best_decision)\n",
    "                \n",
    "        self.select_decision(best_left_data)   # select decision for left node\n",
    "        \n",
    "        print('Entropy value left: ', left_data_entropy)\n",
    "                \n",
    "        self.select_decision(best_right_data)  # select decision for right node\n",
    "        \n",
    "        print('Entropy value right: ', right_data_entropy)\n",
    "        \n",
    "    # Method to fit the data\n",
    "    def fit_data(self, feature_data, target_data):\n",
    "        \n",
    "        feature_data['target'] = target_data\n",
    "        data = feature_data\n",
    "        self.select_decision(data)\n",
    "                \n",
    "                \n",
    "            "
   ]
  },
  {
   "cell_type": "code",
   "execution_count": 78,
   "metadata": {},
   "outputs": [],
   "source": [
    "dtree = DTreeClassifierEntropy()"
   ]
  },
  {
   "cell_type": "code",
   "execution_count": 79,
   "metadata": {},
   "outputs": [],
   "source": [
    "dtree.create_decision(data.drop(columns=['inflated']))"
   ]
  },
  {
   "cell_type": "code",
   "execution_count": 80,
   "metadata": {},
   "outputs": [
    {
     "name": "stdout",
     "output_type": "stream",
     "text": [
      "Entropy Before Split:  0.9886994082884974\n",
      "Best Feature:  color ,  Best Decision:  0.5\n",
      "Entropy Before Split:  0.8112781244591328\n",
      "Best Feature:  act ,  Best Decision:  0.5\n",
      "Entropy value left:  1.0\n",
      "Entropy Before Split:  1.0\n",
      "Best Feature:  age ,  Best Decision:  0.5\n",
      "Entropy value left:  0.0\n",
      "Entropy value right:  0.0\n",
      "Entropy value right:  0.0\n",
      "Entropy value left:  0.954434002924965\n",
      "Entropy Before Split:  0.954434002924965\n",
      "Best Feature:  size ,  Best Decision:  0.5\n",
      "Entropy Before Split:  0.8112781244591328\n",
      "Best Feature:  act ,  Best Decision:  0.5\n",
      "Entropy value left:  1.0\n",
      "Entropy Before Split:  1.0\n",
      "Best Feature:  age ,  Best Decision:  0.5\n",
      "Entropy value left:  0.0\n",
      "Entropy value right:  0.0\n",
      "Entropy value right:  0.0\n",
      "Entropy value left:  0.8112781244591328\n",
      "Entropy value right:  1.0\n",
      "Entropy value right:  0.8112781244591328\n"
     ]
    }
   ],
   "source": [
    "dtree.fit_data(data.drop(columns=['inflated']), data.inflated)"
   ]
  },
  {
   "cell_type": "markdown",
   "metadata": {},
   "source": [
    "# Task 3: scikit - Generate & Display Decision Tree using export_graphviz"
   ]
  },
  {
   "cell_type": "code",
   "execution_count": 89,
   "metadata": {},
   "outputs": [],
   "source": [
    "from sklearn.tree import DecisionTreeClassifier\n",
    "Dtree = DecisionTreeClassifier()"
   ]
  },
  {
   "cell_type": "code",
   "execution_count": 90,
   "metadata": {},
   "outputs": [
    {
     "data": {
      "text/plain": [
       "DecisionTreeClassifier(class_weight=None, criterion='gini', max_depth=None,\n",
       "                       max_features=None, max_leaf_nodes=None,\n",
       "                       min_impurity_decrease=0.0, min_impurity_split=None,\n",
       "                       min_samples_leaf=1, min_samples_split=2,\n",
       "                       min_weight_fraction_leaf=0.0, presort=False,\n",
       "                       random_state=None, splitter='best')"
      ]
     },
     "execution_count": 90,
     "metadata": {},
     "output_type": "execute_result"
    }
   ],
   "source": [
    "Dtree.fit(data.drop(columns=['inflated']), data['inflated'])"
   ]
  },
  {
   "cell_type": "code",
   "execution_count": 91,
   "metadata": {},
   "outputs": [],
   "source": [
    "from sklearn.tree import export_graphviz"
   ]
  },
  {
   "cell_type": "code",
   "execution_count": 92,
   "metadata": {},
   "outputs": [],
   "source": [
    "export_graphviz(Dtree, 'Dtree_gini.tree', feature_names=['color','size','act','age'])"
   ]
  },
  {
   "cell_type": "markdown",
   "metadata": {},
   "source": [
    "### Tree"
   ]
  },
  {
   "attachments": {},
   "cell_type": "markdown",
   "metadata": {},
   "source": [
    "<img src=\"tree image.PNG\"/>"
   ]
  },
  {
   "cell_type": "code",
   "execution_count": null,
   "metadata": {},
   "outputs": [],
   "source": []
  }
 ],
 "metadata": {
  "kernelspec": {
   "display_name": "Python 3",
   "language": "python",
   "name": "python3"
  },
  "language_info": {
   "codemirror_mode": {
    "name": "ipython",
    "version": 3
   },
   "file_extension": ".py",
   "mimetype": "text/x-python",
   "name": "python",
   "nbconvert_exporter": "python",
   "pygments_lexer": "ipython3",
   "version": "3.7.3"
  }
 },
 "nbformat": 4,
 "nbformat_minor": 2
}
