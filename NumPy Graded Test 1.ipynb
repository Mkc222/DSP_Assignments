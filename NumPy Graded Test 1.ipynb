{
 "cells": [
  {
   "cell_type": "markdown",
   "metadata": {},
   "source": [
    "## 1. Count The Number Of Times Each Value Appears In An Array Of Integers"
   ]
  },
  {
   "cell_type": "code",
   "execution_count": 6,
   "metadata": {},
   "outputs": [
    {
     "name": "stdout",
     "output_type": "stream",
     "text": [
      "[6 9 1 6 4 3 9 9 5 3 8 7 5 6 1 9 8 9 7 8]\n",
      "[0 2 0 2 1 2 3 2 3 5]\n"
     ]
    }
   ],
   "source": [
    "import numpy as np\n",
    "data = np.random.randint(1,10,20)\n",
    "print(data)\n",
    "print(np.bincount(data))"
   ]
  },
  {
   "cell_type": "markdown",
   "metadata": {},
   "source": [
    "## 2. Given 9 Integers. You have to convert them into 3*3 Numpy array using Reshape function."
   ]
  },
  {
   "cell_type": "code",
   "execution_count": 7,
   "metadata": {},
   "outputs": [
    {
     "data": {
      "text/plain": [
       "array([[7, 8, 1],\n",
       "       [9, 1, 9],\n",
       "       [3, 6, 1]])"
      ]
     },
     "execution_count": 7,
     "metadata": {},
     "output_type": "execute_result"
    }
   ],
   "source": [
    "data = np.random.randint(1,10,9)\n",
    "data.reshape(3,3)"
   ]
  },
  {
   "cell_type": "markdown",
   "metadata": {},
   "source": [
    "## 3. How to find the memory size of any array"
   ]
  },
  {
   "cell_type": "code",
   "execution_count": 8,
   "metadata": {},
   "outputs": [
    {
     "name": "stdout",
     "output_type": "stream",
     "text": [
      "36 bytes\n"
     ]
    }
   ],
   "source": [
    "print(data.size*data.itemsize,\"bytes\")"
   ]
  },
  {
   "cell_type": "markdown",
   "metadata": {},
   "source": [
    "## 4. Create a 2d array of size 10 by 10 with 1 on the border and 0 inside."
   ]
  },
  {
   "cell_type": "code",
   "execution_count": 9,
   "metadata": {},
   "outputs": [
    {
     "name": "stdout",
     "output_type": "stream",
     "text": [
      "[[1. 1. 1. 1. 1. 1. 1. 1. 1. 1.]\n",
      " [1. 0. 0. 0. 0. 0. 0. 0. 0. 1.]\n",
      " [1. 0. 0. 0. 0. 0. 0. 0. 0. 1.]\n",
      " [1. 0. 0. 0. 0. 0. 0. 0. 0. 1.]\n",
      " [1. 0. 0. 0. 0. 0. 0. 0. 0. 1.]\n",
      " [1. 0. 0. 0. 0. 0. 0. 0. 0. 1.]\n",
      " [1. 0. 0. 0. 0. 0. 0. 0. 0. 1.]\n",
      " [1. 0. 0. 0. 0. 0. 0. 0. 0. 1.]\n",
      " [1. 0. 0. 0. 0. 0. 0. 0. 0. 1.]\n",
      " [1. 1. 1. 1. 1. 1. 1. 1. 1. 1.]]\n"
     ]
    }
   ],
   "source": [
    "data = np.ones((10,10))\n",
    "data[1:-1,1:-1] = 0\n",
    "print(data)"
   ]
  },
  {
   "cell_type": "markdown",
   "metadata": {},
   "source": [
    "## 5.Create a 8x8 matrix and fill it with a checkerboard pattern."
   ]
  },
  {
   "cell_type": "code",
   "execution_count": 10,
   "metadata": {},
   "outputs": [
    {
     "data": {
      "text/plain": [
       "array([[1., 0., 1., 0., 1., 0., 1., 0.],\n",
       "       [0., 1., 0., 1., 0., 1., 0., 1.],\n",
       "       [1., 0., 1., 0., 1., 0., 1., 0.],\n",
       "       [0., 1., 0., 1., 0., 1., 0., 1.],\n",
       "       [1., 0., 1., 0., 1., 0., 1., 0.],\n",
       "       [0., 1., 0., 1., 0., 1., 0., 1.],\n",
       "       [1., 0., 1., 0., 1., 0., 1., 0.],\n",
       "       [0., 1., 0., 1., 0., 1., 0., 1.]])"
      ]
     },
     "execution_count": 10,
     "metadata": {},
     "output_type": "execute_result"
    }
   ],
   "source": [
    "data = np.ones((8,8))\n",
    "data[1::2,::2] = 0\n",
    "data[::2,1::2] = 0\n",
    "data"
   ]
  },
  {
   "cell_type": "markdown",
   "metadata": {},
   "source": [
    "## 6. Normalize a 5x5 random matrix.\n",
    "normalization formula : ((a-mean(a))/std(a))"
   ]
  },
  {
   "cell_type": "code",
   "execution_count": 13,
   "metadata": {},
   "outputs": [
    {
     "data": {
      "text/plain": [
       "array([[-0.86886997,  0.61062998,  0.20712999,  0.00538   , -1.27236995],\n",
       "       [-0.33086999, -0.19636999, -1.27236995,  1.35037995, -0.93611996],\n",
       "       [ 1.01412996, -0.93611996,  1.88837993,  1.61937994,  1.48487994],\n",
       "       [-0.86886997,  1.68662994, -0.06187   , -0.93611996, -0.66711997],\n",
       "       [-1.20511995,  0.07263   , -0.93611996,  0.40887998,  0.13987999]])"
      ]
     },
     "execution_count": 13,
     "metadata": {},
     "output_type": "execute_result"
    }
   ],
   "source": [
    "data = np.random.randint(1,50,(5,5))\n",
    "(data-np.mean(data))/np.std(data)"
   ]
  },
  {
   "cell_type": "markdown",
   "metadata": {},
   "source": [
    "## 7. Given a 1D array in range(0,11), negate all elements which are between 3 and 8, in place."
   ]
  },
  {
   "cell_type": "code",
   "execution_count": 130,
   "metadata": {},
   "outputs": [
    {
     "data": {
      "text/plain": [
       "array([ 0,  1,  2,  3, -4, -5, -6, -7,  8,  9, 10, 11])"
      ]
     },
     "execution_count": 130,
     "metadata": {},
     "output_type": "execute_result"
    }
   ],
   "source": [
    "data = np.array([0,1,2,3,4,5,6,7,8,9,10,11])\n",
    "for i in range(len(data)):\n",
    "    if 3<data[i]<8:\n",
    "        data[i] = -data[i]\n",
    "        \n",
    "data"
   ]
  },
  {
   "cell_type": "markdown",
   "metadata": {},
   "source": [
    "## 8. How to get the dates of yesterday, today and tomorrow?"
   ]
  },
  {
   "cell_type": "code",
   "execution_count": 25,
   "metadata": {},
   "outputs": [
    {
     "name": "stdout",
     "output_type": "stream",
     "text": [
      "Yesterday:  2020-02-13\n",
      "Today:  2020-02-14\n",
      "Tomorrow:  2020-02-15\n"
     ]
    }
   ],
   "source": [
    "print(\"Yesterday: \",np.datetime64('today','D')-np.timedelta64(1,'D'))\n",
    "print(\"Today: \",np.datetime64('today','D'))\n",
    "print(\"Tomorrow: \",np.datetime64('today','D')+np.timedelta64(1,'D'))"
   ]
  },
  {
   "cell_type": "markdown",
   "metadata": {},
   "source": [
    "## 9. Generate two arrays of size 2X4 & 3X3, find difference between them."
   ]
  },
  {
   "cell_type": "code",
   "execution_count": 26,
   "metadata": {},
   "outputs": [
    {
     "data": {
      "text/plain": [
       "array([[[[ -2,  -1,   3,  -3],\n",
       "         [  0,   1,   5,  -1],\n",
       "         [ -4,  -3,   1,  -5]],\n",
       "\n",
       "        [[ -2,   4,   5,  -3],\n",
       "         [  0,   6,   7,  -1],\n",
       "         [ -4,   2,   3,  -5]]],\n",
       "\n",
       "\n",
       "       [[[ -6,  -5,  -1,  -7],\n",
       "         [ -7,  -6,  -2,  -8],\n",
       "         [-12, -11,  -7, -13]],\n",
       "\n",
       "        [[ -6,   0,   1,  -7],\n",
       "         [ -7,  -1,   0,  -8],\n",
       "         [-12,  -6,  -5, -13]]],\n",
       "\n",
       "\n",
       "       [[[ -8,  -7,  -3,  -9],\n",
       "         [  1,   2,   6,   0],\n",
       "         [ -3,  -2,   2,  -4]],\n",
       "\n",
       "        [[ -8,  -2,  -1,  -9],\n",
       "         [  1,   7,   8,   0],\n",
       "         [ -3,   3,   4,  -4]]]])"
      ]
     },
     "execution_count": 26,
     "metadata": {},
     "output_type": "execute_result"
    }
   ],
   "source": [
    "array1 = np.random.randint(1,10,(2,4))\n",
    "array2 = np.random.randint(1,15,(3,3))\n",
    "array1.reshape(1,2,1,4) - array2.reshape(3,1,3,1)"
   ]
  },
  {
   "cell_type": "markdown",
   "metadata": {},
   "source": [
    "## 10. Given 1d array of ['cat','dog','rat'], genrate 100 elements of 1d array consisting of the above 3 value ?\n",
    "['cat','cat',...,'rat','dog','dog','cat'...]"
   ]
  },
  {
   "cell_type": "code",
   "execution_count": 131,
   "metadata": {},
   "outputs": [
    {
     "data": {
      "text/plain": [
       "array(['rat', 'rat', 'rat', 'cat', 'cat', 'dog', 'rat', 'cat', 'cat',\n",
       "       'rat', 'dog', 'cat', 'dog', 'rat', 'rat', 'dog', 'cat', 'cat',\n",
       "       'dog', 'cat', 'dog', 'dog', 'dog', 'dog', 'cat', 'cat', 'cat',\n",
       "       'rat', 'dog', 'cat', 'rat', 'dog', 'cat', 'rat', 'rat', 'cat',\n",
       "       'cat', 'rat', 'dog', 'dog', 'cat', 'cat', 'dog', 'dog', 'rat',\n",
       "       'cat', 'rat', 'cat', 'cat', 'cat', 'dog', 'cat', 'rat', 'dog',\n",
       "       'cat', 'rat', 'rat', 'rat', 'dog', 'dog', 'cat', 'cat', 'rat',\n",
       "       'cat', 'dog', 'cat', 'dog', 'rat', 'rat', 'dog', 'cat', 'rat',\n",
       "       'cat', 'dog', 'rat', 'rat', 'rat', 'rat', 'rat', 'cat', 'dog',\n",
       "       'dog', 'dog', 'dog', 'rat', 'rat', 'dog', 'dog', 'cat', 'dog',\n",
       "       'rat', 'dog', 'dog', 'cat', 'dog', 'cat', 'rat', 'dog', 'cat',\n",
       "       'cat'], dtype='<U3')"
      ]
     },
     "execution_count": 131,
     "metadata": {},
     "output_type": "execute_result"
    }
   ],
   "source": [
    "array = ['cat','dog','rat']\n",
    "np.random.choice(array,100)"
   ]
  },
  {
   "cell_type": "markdown",
   "metadata": {},
   "source": [
    "## 11. Create a vector of size 10 with values ranging from 0 to 1, both excluded without manually deducing the values"
   ]
  },
  {
   "cell_type": "code",
   "execution_count": 47,
   "metadata": {},
   "outputs": [
    {
     "data": {
      "text/plain": [
       "array([0.09090909, 0.18181818, 0.27272727, 0.36363636, 0.45454545,\n",
       "       0.54545455, 0.63636364, 0.72727273, 0.81818182, 0.90909091])"
      ]
     },
     "execution_count": 47,
     "metadata": {},
     "output_type": "execute_result"
    }
   ],
   "source": [
    "vect = np.linspace(0,1,12)[1:-1]\n",
    "vect"
   ]
  },
  {
   "cell_type": "markdown",
   "metadata": {},
   "source": [
    "## 12. Given a two dimensional array, how to extract unique rows?"
   ]
  },
  {
   "cell_type": "code",
   "execution_count": 49,
   "metadata": {},
   "outputs": [
    {
     "name": "stdout",
     "output_type": "stream",
     "text": [
      "[[ 0  9 21 47 43]\n",
      " [12 47 16  6 37]\n",
      " [26 35 15 19 40]\n",
      " [14  3 31 11 20]\n",
      " [35 37 19  1  3]]\n",
      "[[12 47 16  6 37]]\n"
     ]
    }
   ],
   "source": [
    "data = np.random.randint(0,50,(5,5))\n",
    "print(data)\n",
    "print(data[[1]])"
   ]
  },
  {
   "cell_type": "markdown",
   "metadata": {},
   "source": [
    "## 13. Create a structured array with x and y coordinates covering the [0,1]x[0,1] area."
   ]
  },
  {
   "cell_type": "code",
   "execution_count": null,
   "metadata": {},
   "outputs": [],
   "source": []
  },
  {
   "cell_type": "markdown",
   "metadata": {},
   "source": [
    "## 14. How to find the closest value (to a given scalar) in a vector?"
   ]
  },
  {
   "cell_type": "code",
   "execution_count": 53,
   "metadata": {},
   "outputs": [
    {
     "name": "stdout",
     "output_type": "stream",
     "text": [
      "[ 0  1  2  3  4  5  6  7  8  9 10 11 12 13 14 15 16 17 18 19 20 21 22 23\n",
      " 24 25 26 27 28 29 30 31 32 33 34 35 36 37 38 39 40 41 42 43 44 45 46 47\n",
      " 48 49 50 51 52 53 54 55 56 57 58 59 60 61 62 63 64 65 66 67 68 69 70 71\n",
      " 72 73 74 75 76 77 78 79 80 81 82 83 84 85 86 87 88 89 90 91 92 93 94 95\n",
      " 96 97 98 99]\n",
      "57.56467210609966\n",
      "58\n"
     ]
    }
   ],
   "source": [
    "vect = np.arange(100)\n",
    "scalar = np.random.uniform(0,100)\n",
    "print(vect)\n",
    "print(scalar)\n",
    "index = (np.abs(vect-scalar)).argmin()\n",
    "print(index)"
   ]
  },
  {
   "cell_type": "markdown",
   "metadata": {},
   "source": [
    "## 15. Consider a random vector with shape (10,2) representing coordinates, find point by point distances. Use euclidian distance."
   ]
  },
  {
   "cell_type": "code",
   "execution_count": 59,
   "metadata": {},
   "outputs": [
    {
     "data": {
      "text/plain": [
       "array([ 0, -5, -7, -1,  2,  3, -4,  0, -7, -1])"
      ]
     },
     "execution_count": 59,
     "metadata": {},
     "output_type": "execute_result"
    }
   ],
   "source": [
    "rand_vect = np.random.randint(0,10,(10,2))\n",
    "x = rand_vect[:,0]\n",
    "y=rand_vect[:,1]\n",
    "x-y"
   ]
  },
  {
   "cell_type": "markdown",
   "metadata": {},
   "source": [
    "## 16. How to sort an array by the nth column?"
   ]
  },
  {
   "cell_type": "code",
   "execution_count": 62,
   "metadata": {},
   "outputs": [
    {
     "name": "stdout",
     "output_type": "stream",
     "text": [
      "[[78 55 69 84 80]\n",
      " [85 43 78 71 31]\n",
      " [98 49 78 28 44]\n",
      " [98 78 54  8 33]\n",
      " [51 83 25 16 55]]\n",
      "[[85 43 78 71 31]\n",
      " [98 78 54  8 33]\n",
      " [98 49 78 28 44]\n",
      " [51 83 25 16 55]\n",
      " [78 55 69 84 80]]\n"
     ]
    }
   ],
   "source": [
    "data = np.random.randint(0,100,(5,5))\n",
    "print(data)\n",
    "print(data[data[:,4].argsort()])"
   ]
  },
  {
   "cell_type": "markdown",
   "metadata": {},
   "source": [
    "## 17.How to tell if a given 2D array has null columns?"
   ]
  },
  {
   "cell_type": "code",
   "execution_count": 66,
   "metadata": {},
   "outputs": [
    {
     "data": {
      "text/plain": [
       "array([[False, False, False, False, False],\n",
       "       [False, False, False, False, False],\n",
       "       [False, False, False, False, False],\n",
       "       [False, False, False, False, False],\n",
       "       [False, False, False, False, False]])"
      ]
     },
     "execution_count": 66,
     "metadata": {},
     "output_type": "execute_result"
    }
   ],
   "source": [
    "data = np.random.randint(1,10,(5,5))\n",
    "np.isnan(data)"
   ]
  },
  {
   "cell_type": "markdown",
   "metadata": {},
   "source": [
    "## 18. Considering a two dimensions array, how to get sum over the last two columns at once?"
   ]
  },
  {
   "cell_type": "code",
   "execution_count": 68,
   "metadata": {},
   "outputs": [
    {
     "name": "stdout",
     "output_type": "stream",
     "text": [
      "[[9 7 2 7 5]\n",
      " [8 4 9 7 9]\n",
      " [2 7 9 3 8]\n",
      " [3 9 4 3 9]\n",
      " [6 3 2 5 4]]\n",
      "60\n"
     ]
    }
   ],
   "source": [
    "print(data)\n",
    "print(np.sum(data[:,-2:]))"
   ]
  },
  {
   "cell_type": "markdown",
   "metadata": {},
   "source": [
    "## 19. Given a 2d array of 5X5, increment 1st column by 1, second column by 2, 3rd column by 3 & so on till the last column"
   ]
  },
  {
   "cell_type": "code",
   "execution_count": 71,
   "metadata": {},
   "outputs": [
    {
     "name": "stdout",
     "output_type": "stream",
     "text": [
      "[[10 10  7 14 14]\n",
      " [ 9  7 14 14 18]\n",
      " [ 3 10 14 10 17]\n",
      " [ 4 12  9 10 18]\n",
      " [ 7  6  7 12 13]]\n",
      "[[11 12 10 18 19]\n",
      " [10  9 17 18 23]\n",
      " [ 4 12 17 14 22]\n",
      " [ 5 14 12 14 23]\n",
      " [ 8  8 10 16 18]]\n"
     ]
    }
   ],
   "source": [
    "print(data)\n",
    "for i in range(len(data)):\n",
    "    data[:,i] += i+1\n",
    "print(data)"
   ]
  },
  {
   "cell_type": "markdown",
   "metadata": {},
   "source": [
    "## 20. Given a 1d array(size 100) of boolean values, identify total number of True in it."
   ]
  },
  {
   "cell_type": "code",
   "execution_count": 133,
   "metadata": {},
   "outputs": [
    {
     "data": {
      "text/plain": [
       "47"
      ]
     },
     "execution_count": 133,
     "metadata": {},
     "output_type": "execute_result"
    }
   ],
   "source": [
    "data = np.random.choice([True,False],100)\n",
    "np.count_nonzero(data)"
   ]
  },
  {
   "cell_type": "markdown",
   "metadata": {},
   "source": [
    "## 21. Consider the vector [1, 2, 3, 4, 5], how to build a new vector with 3 consecutive zeros interleaved between each value?"
   ]
  },
  {
   "cell_type": "code",
   "execution_count": 121,
   "metadata": {},
   "outputs": [
    {
     "name": "stdout",
     "output_type": "stream",
     "text": [
      "[0. 0. 0. 0. 0. 0. 0. 0. 0. 0. 0. 0. 0. 0. 0. 0. 0.]\n",
      "[1. 0. 0. 0. 2. 0. 0. 0. 3. 0. 0. 0. 4. 0. 0. 0. 5.]\n"
     ]
    }
   ],
   "source": [
    "vect = np.array([1, 2, 3, 4, 5])\n",
    "n = 3\n",
    "new_vect = np.zeros(len(vect)+(len(vect)-1)*n)\n",
    "print(new_vect)\n",
    "new_vect[::n+1]=vect\n",
    "print(new_vect)"
   ]
  },
  {
   "cell_type": "markdown",
   "metadata": {},
   "source": [
    "## 22. How to swap two rows of an array?"
   ]
  },
  {
   "cell_type": "code",
   "execution_count": 93,
   "metadata": {},
   "outputs": [
    {
     "name": "stdout",
     "output_type": "stream",
     "text": [
      "[[432 437 263  45 459 188 471 214 455 308]\n",
      " [200 430 410 185 253   7 100 344 361 107]\n",
      " [184 238 413 233 177 104 223 127  64 456]\n",
      " [115 297 268  63 182 170 245 385 489 276]\n",
      " [167  48 231 175   1 287  55 364 260 484]\n",
      " [350 222 243 485   2 280 266 164 453 165]\n",
      " [172 426 203 492 482 389 185 396 104 169]\n",
      " [345 127 249 441 175  24 435 451 353 243]\n",
      " [170 132 246 414 480 105 271 211 266 396]\n",
      " [ 25 311 342 140 437 170 436 483 496 380]]\n",
      "[[432 437 263  45 459 188 471 214 455 308]\n",
      " [350 222 243 485   2 280 266 164 453 165]\n",
      " [184 238 413 233 177 104 223 127  64 456]\n",
      " [115 297 268  63 182 170 245 385 489 276]\n",
      " [167  48 231 175   1 287  55 364 260 484]\n",
      " [200 430 410 185 253   7 100 344 361 107]\n",
      " [172 426 203 492 482 389 185 396 104 169]\n",
      " [345 127 249 441 175  24 435 451 353 243]\n",
      " [170 132 246 414 480 105 271 211 266 396]\n",
      " [ 25 311 342 140 437 170 436 483 496 380]]\n"
     ]
    }
   ],
   "source": [
    "data = data.reshape(10,10)\n",
    "print(data)\n",
    "data[[1,5]] = data[[5,1]]\n",
    "print(data)"
   ]
  },
  {
   "cell_type": "markdown",
   "metadata": {},
   "source": [
    "## 24. How to get n largest value of an array?"
   ]
  },
  {
   "cell_type": "code",
   "execution_count": 105,
   "metadata": {},
   "outputs": [
    {
     "name": "stdout",
     "output_type": "stream",
     "text": [
      "[13  6 14 16 14]\n",
      "[14 16]\n"
     ]
    }
   ],
   "source": [
    "n = 2\n",
    "data = np.random.randint(1,20,5)\n",
    "print(data)\n",
    "data.sort()\n",
    "print(data[-n:])"
   ]
  },
  {
   "cell_type": "markdown",
   "metadata": {},
   "source": [
    "## 25. Given two random arrays of shape 5X5, identify the common elements between them."
   ]
  },
  {
   "cell_type": "code",
   "execution_count": 110,
   "metadata": {},
   "outputs": [
    {
     "name": "stdout",
     "output_type": "stream",
     "text": [
      "[[19 11  3 16  6]\n",
      " [ 1  6  8 10  7]\n",
      " [ 2 12  4 15  2]\n",
      " [18  4  3 14 17]\n",
      " [12  4  9  7  4]]\n",
      "[[10  8  2 10  1]\n",
      " [15 12  6  8 13]\n",
      " [16  4  6 22  6]\n",
      " [13  5 14 10 12]\n",
      " [ 2 22 19 16  3]]\n",
      "[ 1  2  3  4  6  8 10 12 14 15 16 19]\n"
     ]
    }
   ],
   "source": [
    "array1 = np.random.randint(1,20,(5,5))\n",
    "array2 = np.random.randint(1,25,(5,5))\n",
    "print(array1)\n",
    "print(array2)\n",
    "print(np.intersect1d(array1,array2))"
   ]
  },
  {
   "cell_type": "markdown",
   "metadata": {},
   "source": [
    "## 26. How to get index of top two highest value in a 1d array?"
   ]
  },
  {
   "cell_type": "code",
   "execution_count": 115,
   "metadata": {},
   "outputs": [
    {
     "name": "stdout",
     "output_type": "stream",
     "text": [
      "[1 3 4 9 2 1 3 1 4 5 5 5]\n"
     ]
    },
    {
     "data": {
      "text/plain": [
       "array([11,  3], dtype=int64)"
      ]
     },
     "execution_count": 115,
     "metadata": {},
     "output_type": "execute_result"
    }
   ],
   "source": [
    "data = np.random.randint(1,10,12)\n",
    "print(data)\n",
    "data.argsort()[-2:]"
   ]
  },
  {
   "cell_type": "code",
   "execution_count": null,
   "metadata": {},
   "outputs": [],
   "source": []
  },
  {
   "cell_type": "code",
   "execution_count": null,
   "metadata": {},
   "outputs": [],
   "source": []
  }
 ],
 "metadata": {
  "kernelspec": {
   "display_name": "Python 3",
   "language": "python",
   "name": "python3"
  },
  "language_info": {
   "codemirror_mode": {
    "name": "ipython",
    "version": 3
   },
   "file_extension": ".py",
   "mimetype": "text/x-python",
   "name": "python",
   "nbconvert_exporter": "python",
   "pygments_lexer": "ipython3",
   "version": "3.7.3"
  }
 },
 "nbformat": 4,
 "nbformat_minor": 2
}
