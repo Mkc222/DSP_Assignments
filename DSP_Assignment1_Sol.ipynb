{
 "cells": [
  {
   "cell_type": "code",
   "execution_count": null,
   "metadata": {},
   "outputs": [],
   "source": [
    "Question no: 1\n",
    "    \n",
    "In the pre-smartphone era,each number key is assigned a subset of the alphabet {a,b,…,z}.\n",
    "\n",
    "- 2 is assigned {a,b,c}, \n",
    "- 3 is assigned {d,e,f} \n",
    "- 4 is assigned {g,h,i} \n",
    "- 5 is assigned {j,k,l}\n",
    "- 6 is assigned {m,n,o} \n",
    "- 7 is assigned {p,q,r,s}\n",
    "- 8 is assigned {t,u,v} \n",
    "- 9 is assigned {w,x,y,z}\n",
    "\n",
    "Write a function numbers_to_chars() to find the characters generated using key 9999335533. Output should be \"zeke\"\n",
    "\n",
    "Function Name : numbers_to_chars() Input : Integer number sequence Output : Str"
   ]
  },
  {
   "cell_type": "code",
   "execution_count": null,
   "metadata": {},
   "outputs": [],
   "source": [
    "Approach:\n",
    "    1. Initialize a dict num_to_char where each integer is assigned to a subset of the alphabets\n",
    "        num_to_char = {'2':['a','b','c'],'3':['d','e','f'],'4':['g','h','i'],'5':['j','k','l'],'6':['m','n','o'],\n",
    "              '7':['p','q','r','s'],'8':['t','u','v'],'9':['w','x','y','z']}\n",
    "    2. typecast number to string or take the number as str\n",
    "    3. Initialize count = 1\n",
    "    4. Take an empty string \n",
    "    5. iterate over num starting from index 1 till the end of the string:\n",
    "        1. first boundary condition if i == len(num)-1 and numb[i-1] is not equal to num[i]:\n",
    "            add the required char to string\n",
    "        2. second boundary condition if i == len(num)-1 and num[i-1] is equal to num[i]:\n",
    "            increase the count by one \n",
    "            add the required char to string\n",
    "        3. in other case if num[i-1] == num[i]:\n",
    "            just increase the count by one\n",
    "        4. In all other cases add the required char to the string\n",
    "            and then again assign count = 1"
   ]
  },
  {
   "cell_type": "code",
   "execution_count": 34,
   "metadata": {},
   "outputs": [
    {
     "name": "stdout",
     "output_type": "stream",
     "text": [
      "zeke\n"
     ]
    }
   ],
   "source": [
    "def numbers_to_chars(num):\n",
    "    count = 1\n",
    "    string = ''\n",
    "    for i in range(1,len(num)):\n",
    "\n",
    "\n",
    "        if i == len(num)-1 and num[i-1]!=num[i]:   # Boundary Condition\n",
    "            string += num_to_char[num[i]][count-1]   # Adding the required character\n",
    "        if i == len(num)-1 and num[i-1]==num[i]:   # Boundary Condition\n",
    "            count = count + 1\n",
    "            string += num_to_char[num[i]][count-1]\n",
    "\n",
    "        # The Logic\n",
    "        elif num[i-1] == num[i]:\n",
    "            count += 1\n",
    "        else:\n",
    "            string += num_to_char[num[i-1]][count-1]  # Adding the required character\n",
    "            count = 1 \n",
    "    return string\n",
    "    \n",
    "num_to_char = {'2':['a','b','c'],'3':['d','e','f'],'4':['g','h','i'],'5':['j','k','l'],'6':['m','n','o'],\n",
    "              '7':['p','q','r','s'],'8':['t','u','v'],'9':['w','x','y','z']}\n",
    "num = \"9999335533\"\n",
    "print(numbers_to_chars(num))"
   ]
  },
  {
   "cell_type": "code",
   "execution_count": null,
   "metadata": {},
   "outputs": [],
   "source": [
    "Question number 2:\n",
    "\n",
    "Given a dict of tickets(\"to\":\"from\")\n",
    "\n",
    "{\"Chennai\":\"Banglore\",\"Bombay\":\"Delhi\",\"Goa\":\"Chennai\",\"Delhi\":\"Goa\"} find out the sequence of travel.\n",
    "\n",
    "Expected Output : Bombay->Delhi, Delhi->Goa, Goa->Chennai, Chennai->Banglore\n",
    "\n",
    "Function Name : travel_sequence Input : dict Output : dict"
   ]
  },
  {
   "cell_type": "code",
   "execution_count": null,
   "metadata": {},
   "outputs": [],
   "source": [
    "Approach:\n",
    "    1. find the list of keys as key = tickets.keys()\n",
    "    2. find the list of values as value = tickets.values()\n",
    "    3. Assign the key to start which is not present in the value\n",
    "    4. take an empty dict sequence = dict()\n",
    "    5. run a loop till len(keys):\n",
    "        1. sequence[start] = tickets[start]\n",
    "        2. start = sequence[start]\n",
    "        "
   ]
  },
  {
   "cell_type": "code",
   "execution_count": 29,
   "metadata": {},
   "outputs": [
    {
     "name": "stdout",
     "output_type": "stream",
     "text": [
      "{'Bombay': 'Delhi', 'Delhi': 'Goa', 'Goa': 'Chennai', 'Chennai': 'Banglore'}\n"
     ]
    }
   ],
   "source": [
    "def travel_sequence(dictionary):    \n",
    "    key = tickets.keys()\n",
    "    value = tickets.values()\n",
    "    start_set = set(key).difference(set(value))\n",
    "    for value in start_set:\n",
    "        start = value\n",
    "    seq = dict()\n",
    "    # The logic\n",
    "    for i in range(len(key)):\n",
    "        seq[start] = tickets[start]   # add key value in the new sequence\n",
    "        start = seq[start]    # change the start location\n",
    "        \n",
    "    return seq\n",
    "\n",
    "tickets = {\"Chennai\":\"Banglore\",\"Bombay\":\"Delhi\",\"Goa\":\"Chennai\",\"Delhi\":\"Goa\"}\n",
    "print(travel_sequence(tickets))"
   ]
  },
  {
   "cell_type": "code",
   "execution_count": null,
   "metadata": {},
   "outputs": [],
   "source": [
    "Question number 3:\n",
    "    \n",
    "Given a dictionary that associates the names of states with a list of the names of cities that appear in it,\n",
    "write a program that creates a new dictionary that associates the name of a city with the list of states that it appears in.\n",
    "\n",
    "As an example, if the first dictionary is\n",
    "\n",
    "Input : states = {'New Hampshire': ['Concord', 'Hanover'],\n",
    "\n",
    "'Massachusetts': ['Boston', 'Concord', 'Springfield'],\n",
    "\n",
    "'Illinois': ['Chicago', 'Springfield', 'Peoria'] }\n",
    "\n",
    "Output:\n",
    "\n",
    "cities = {'Hanover': ['New Hampshire'],\n",
    "\n",
    "'Chicago': ['Illinois'],'Boston': ['Massachusetts'],\n",
    "\n",
    "'Peoria': ['Illinois'],'Concord': ['New Hampshire','Massachusetts'],\n",
    "\n",
    "'Springfield': ['Massachusetts', 'Illinois'] }\n",
    "\n",
    "Function Name : city_with_states Input : dict Output : dict"
   ]
  },
  {
   "cell_type": "code",
   "execution_count": null,
   "metadata": {},
   "outputs": [],
   "source": [
    "Approach:\n",
    "    1. Take an empty dictionary say 'cities'\n",
    "    2. for loop on key, value pair of states.items():\n",
    "        1. for loop on items of value:\n",
    "            if this item is present in cities then append it in cities[item]\n",
    "            else, add item as key and assign its value as state in list\n",
    "    return cities"
   ]
  },
  {
   "cell_type": "code",
   "execution_count": 30,
   "metadata": {},
   "outputs": [
    {
     "name": "stdout",
     "output_type": "stream",
     "text": [
      "{'Concord': ['New Hampshire', 'Massachusetts'], 'Hanover': ['New Hampshire'], 'Boston': ['Massachusetts'], 'Springfield': ['Massachusetts', 'Illinois'], 'Chicago': ['Illinois'], 'Peoria': ['Illinois']}\n"
     ]
    }
   ],
   "source": [
    "states = {'New Hampshire': ['Concord', 'Hanover'],\n",
    "\n",
    "'Massachusetts': ['Boston', 'Concord', 'Springfield'],\n",
    "\n",
    "'Illinois': ['Chicago', 'Springfield', 'Peoria'] }\n",
    "\n",
    "def city_with_states(states):\n",
    "\n",
    "    cities = dict()\n",
    "\n",
    "    # The logic:\n",
    "    for key, value in states.items():\n",
    "        for item in value:\n",
    "            if item in cities:\n",
    "                cities[item].append(key)    # append the state in city\n",
    "            else:\n",
    "                cities[item] = [key]   # new city as key and state as list of value\n",
    "    return cities\n",
    "\n",
    "print(city_with_states(states))"
   ]
  },
  {
   "cell_type": "code",
   "execution_count": null,
   "metadata": {},
   "outputs": [],
   "source": [
    "Question number 4:\n",
    "    \n",
    "How do you check if a given String contains valid parentheses? \n",
    "Given a string containing just the characters '(', ')', '{', '}', '[' and ']', \n",
    "write a program in python to check if the input string is valid. The brackets must close in the correct order, \n",
    "\"()\" and \"()[]{}\" are all valid but \"(]\" and \"([)]\" are not.\n",
    "\n",
    "Function Name : check_parentheses Input : str Output : True/False"
   ]
  },
  {
   "cell_type": "code",
   "execution_count": null,
   "metadata": {},
   "outputs": [],
   "source": [
    "Approach:\n",
    "    1. Take an empty list say 'brackets'\n",
    "    2. Iterate over the given string:\n",
    "        1. if the current char is '(' or '{' or '[' then append it in the list 'brackets' and then continue\n",
    "        2. if len(brackets) == 0 then return True\n",
    "        3. if the current char is ')':\n",
    "            1. pop out a character from 'brackets'\n",
    "            2. if the poped char is '{' or '[' or len(brackets) == 0 then return False\n",
    "        4. if the current char is '}':\n",
    "            1. pop out a character from 'brackets'\n",
    "            2. if the poped char is '(' or '[' or len(brackets) == 0 then return False\n",
    "        5. if the current char is ']':\n",
    "            1. pop out a char from 'brackets'\n",
    "            2. if the poped char is '(' or '{' or len(brackets) == 0 then return False\n",
    "    3. in all other cases return True\n",
    "        "
   ]
  },
  {
   "cell_type": "code",
   "execution_count": 3,
   "metadata": {},
   "outputs": [
    {
     "name": "stdout",
     "output_type": "stream",
     "text": [
      "()[]{}\n",
      "True\n"
     ]
    }
   ],
   "source": [
    "def check_parentheses(string):\n",
    "    brackets = []\n",
    "    for char in string:\n",
    "        if char == '(' or char == '{' or char == '[':\n",
    "            brackets.append(char)\n",
    "            continue\n",
    "        if len(brackets) == 0:\n",
    "            return True\n",
    "        if char == ')':\n",
    "            poped_char = brackets.pop()\n",
    "            if poped_char == '{' or poped_char == '[':\n",
    "                return False\n",
    "        elif char == '}':\n",
    "            poped_char = brackets.pop()\n",
    "            if poped_char == '(' or poped_char == '[':\n",
    "                return False\n",
    "        elif char == ']':\n",
    "            poped_char = brackets.pop()\n",
    "            if poped_char == '(' or poped_char == '{':\n",
    "                return False\n",
    "    return True\n",
    "\n",
    "string = input()\n",
    "print(check_parentheses(string))"
   ]
  },
  {
   "cell_type": "code",
   "execution_count": null,
   "metadata": {},
   "outputs": [],
   "source": [
    "Question number 5:\n",
    "    \n",
    "Write a program to convert Integer to Roman String. For example, if a given integer is 5 then your program should print \"V\".\n",
    "\n",
    "Function Name : int_roman Input : int Output : str"
   ]
  },
  {
   "cell_type": "code",
   "execution_count": null,
   "metadata": {},
   "outputs": [],
   "source": [
    "Approach:   (This approach will work for arabic numbers from 1 to 3999)\n",
    "    Given a number to convert into its roman form\n",
    "    1. Take a list arabic_numbers = [1000, 900, 500, 400, 100, 90, 50, 40, 10, 9, 5, 4, 1]\n",
    "    2. Take another list representing above arabic numbers in romans, \n",
    "            roman_numbers = ['M', 'CM', 'D', 'CD', 'C', 'XC', 'L', 'XL', 'X', 'IX', 'V', 'IV', 'I']\n",
    "    3. Take a variable (i.e. an empty string) roman_value = ''\n",
    "    4. Start dividing the given number by the integers in arabic_numbers starting from index zero:\n",
    "        1. if the number is divided by the current integer then concotenate roman_value with quotient times roman representation\n",
    "            of current integer\n",
    "        2. update the number as numner % current integer\n",
    "        3. break if number = 0\n",
    "    \n",
    "        "
   ]
  },
  {
   "cell_type": "code",
   "execution_count": 9,
   "metadata": {},
   "outputs": [
    {
     "name": "stdout",
     "output_type": "stream",
     "text": [
      "CMLXXVI\n"
     ]
    }
   ],
   "source": [
    "def int_roman(number):\n",
    "    \"\"\"\n",
    "    This function (int_roman()) will convert any arabic number from 1 to 3999 to its roman representation form\n",
    "    \"\"\"\n",
    "    if number <=0 or number >= 4000:\n",
    "        return \"Please enter positive numbers from 1 to 3999\"\n",
    "    arabic_numbers = [1000, 900, 500, 400, 100, 90, 50, 40, 10, 9, 5, 4, 1]\n",
    "    roman_numbers = ['M', 'CM', 'D', 'CD', 'C', 'XC', 'L', 'XL', 'X', 'IX', 'V', 'IV', 'I']   # These are the standard symbols\n",
    "                                                                                              # used for roman representation\n",
    "    roman_value = ''\n",
    "    \n",
    "    # The logic:\n",
    "    for i in range(13):  # there are 13 numbers in the list\n",
    "        quotient = number // arabic_numbers[i]     # Divide the number by current arabic integer\n",
    "        roman_value += quotient * roman_numbers[i]  # adding the roman representation in the string roman_value\n",
    "        number = number % arabic_numbers[i]    # number is reduced to the number modulo the current integer\n",
    "        if number == 0:   # break when number becomes zero\n",
    "            break\n",
    "    return roman_value\n",
    "\n",
    "number = 976\n",
    "print(int_roman(number))"
   ]
  },
  {
   "cell_type": "code",
   "execution_count": null,
   "metadata": {},
   "outputs": [],
   "source": [
    "Question number 6:\n",
    "    \n",
    "Write a program utility that counts the number of lines of actual python code in a. For the purpose of this exercise, \n",
    "a line is counted if it contains something other than whitespace or text in a comment.\n",
    "\n",
    "remember that comment start sequences that appear inside python strings should be ignored.\n",
    "\n",
    "Function Name : count_code_lines Input : str Output : int\n",
    "            \n",
    "\n",
    "            \n",
    "input_code = \"\"\"\n",
    "#Linear search implementation\n",
    "#Takes list and a key as input and returns True or False as answer\n",
    "def linear_saerch(l,key):\n",
    "    for value in l:\n",
    "        if key == value:\n",
    "            return True #Return True is key exist\n",
    "    else:\n",
    "        return False #Return False if key does not exist\n",
    "\n",
    "l = [100,200,300,400,500,600]\n",
    "key = 500\n",
    "result = linear_search(l,key)\n",
    "print(result)\n",
    "\"\"\""
   ]
  },
  {
   "cell_type": "code",
   "execution_count": null,
   "metadata": {},
   "outputs": [],
   "source": [
    "Approach:\n",
    "    1. Insert the text in a text file using file handling\n",
    "    2. open the text file\n",
    "    3. run a loop on each line in the text file\n",
    "    4. remove all the white space using strip() in each line\n",
    "    5. Check if the length of the current line after removing white spaces greater than zero:\n",
    "        1. If the first element of the line is '#' then pass\n",
    "        2. else it is a valid line of python code, increase count by one\n",
    "    6. return the count "
   ]
  },
  {
   "cell_type": "code",
   "execution_count": 26,
   "metadata": {},
   "outputs": [
    {
     "name": "stdout",
     "output_type": "stream",
     "text": [
      "10\n"
     ]
    }
   ],
   "source": [
    "input_code = \"\"\"\n",
    "#Linear search implementation\n",
    "#Takes list and a key as input and returns True or False as answer\n",
    "def linear_saerch(l,key):\n",
    "    for value in l:\n",
    "        if key == value:\n",
    "            return True #Return True is key exist\n",
    "    else:\n",
    "        return False #Return False if key does not exist\n",
    "\n",
    "l = [100,200,300,400,500,600]\n",
    "key = 500\n",
    "result = linear_search(l,key)\n",
    "print(result)\n",
    "\"\"\"\n",
    "\n",
    "def count_code_lines(input_code):\n",
    "    # Insert the above text in a text file\n",
    "    fp = open(\"python_code.txt\", 'w+')\n",
    "    fp.write(input_code)\n",
    "    fp.close()\n",
    "\n",
    "    # the logic:\n",
    "    fp = open(\"python_code.txt\", 'r')\n",
    "    count = 0\n",
    "    for line in fp.readlines():\n",
    "        if len(line.strip()) > 0:   # Lines having length zero is a vacant line\n",
    "            if line.strip()[0] == '#':\n",
    "                pass\n",
    "            else:\n",
    "                count += 1\n",
    "    return count\n",
    "\n",
    "print(count_code_lines(input_code))"
   ]
  },
  {
   "cell_type": "code",
   "execution_count": null,
   "metadata": {},
   "outputs": [],
   "source": [
    "Question number 7:\n",
    "    \n",
    "Write a program to check the strength of a supplied password\n",
    "\n",
    "The length of the password must be at least 8 characters in length The password must contain at least 1 capital letter \n",
    "The password must contain at least 1 digit The password must contain at least 1 special character and allowed \n",
    "special characters are (!,@,#,$,&)\n",
    "\n",
    "We need to provide feedback to the user about the strength of their password\n",
    "\n",
    "Provide the user with a list of reasons why their password is 'weak'\n",
    "Function Name : check_password_strength Input : str Output : tuple (str,list) \n",
    "                        eg (\"Weak\",[\"The password must contain at least 1 capital letter\"])"
   ]
  },
  {
   "cell_type": "code",
   "execution_count": null,
   "metadata": {},
   "outputs": [],
   "source": [
    "Approach:\n",
    "    1. define a function which will check if there is any capital letter in the password or not\n",
    "    2. define a function to check atleast one special character in the password\n",
    "    3. if the password length is less than 8:\n",
    "        1. ret = (password, 'The password must be atleast 8 character long')\n",
    "        2. return ret\n",
    "    4. if the password doesn't contain at least one capital letter:\n",
    "        1. ret = (password, 'The password must contain atleast 1 capital letter')\n",
    "        2. return ret\n",
    "    5. if the password do not contain atleast 1 digit:\n",
    "        ret = (password, 'The password must contain atleast one digit')\n",
    "        return ret\n",
    "    6. if the password do not contain at least one special character:\n",
    "        ret = (password, 'The password must contain atleast one special character')\n",
    "        return ret\n",
    "    7. else, return (password, 'The password is strong')"
   ]
  },
  {
   "cell_type": "code",
   "execution_count": 32,
   "metadata": {},
   "outputs": [
    {
     "name": "stdout",
     "output_type": "stream",
     "text": [
      "('weak', 'The password must be at least 8 character long')\n"
     ]
    }
   ],
   "source": [
    "def atleast_one_capital(password):\n",
    "    \"\"\"\n",
    "    This function will check if there is atleast one capital letter in the password\n",
    "    \"\"\"\n",
    "    for char in password:\n",
    "        if ord(char) >= 65 and ord(char) <= 91:\n",
    "            p = 1\n",
    "    if p == 1:\n",
    "        return True\n",
    "    else:\n",
    "        return False\n",
    "\n",
    "def one_special_char(password):\n",
    "    \"\"\"\n",
    "    This function will check if there is atleast one special character in the password\n",
    "    \"\"\"\n",
    "    special_char = ('!','@','#','$','&')\n",
    "    for char in password:\n",
    "        if char in special_char:\n",
    "            p = 1\n",
    "    if p == 1:\n",
    "        return True\n",
    "    else:\n",
    "        return False\n",
    "    \n",
    "def one_digit(password):\n",
    "    \"\"\"\n",
    "    This function will check if there is atleast one digit in the password\n",
    "    \"\"\"\n",
    "    \n",
    "    for char in password:\n",
    "        if char.isdigit():\n",
    "            return True\n",
    "    return False\n",
    "        \n",
    "    \n",
    "def check_password_strength(password):\n",
    "    \n",
    "    \"\"\"\n",
    "    This function will check if the given password is strong or not\n",
    "    \"\"\"\n",
    "    if len(password) < 8:\n",
    "        return (password, 'The password must be at least 8 character long')\n",
    "    elif not atleast_one_capital(password):\n",
    "        return (password, 'The password must contain atleast one capital letter')\n",
    "    elif not one_special_char(password):\n",
    "        return (password, 'The password must contain atleast one special character')\n",
    "    elif not one_digit(password):\n",
    "        return (password, 'The password must contain atleast one digit')\n",
    "    else:\n",
    "        return (password, 'Strong password')\n",
    "    \n",
    "password = \"weak\"\n",
    "print(check_password_strength(password))"
   ]
  },
  {
   "cell_type": "code",
   "execution_count": null,
   "metadata": {},
   "outputs": [],
   "source": [
    "Question number 8:\n",
    "    \n",
    "Check if given sentence is syntactically correct or not\n",
    "A simple sentence if syntactically correct if it fulfills given rules. The following are given rules.\n",
    "\n",
    "Sentence must start with a Uppercase character (e.g. Noun/ I/ We/ He etc.)\n",
    "There must be spaces between words.\n",
    "Then the sentence must end with a full stop(.).\n",
    "Two continuous spaces are not allowed.\n",
    "Two continuous uppercase characters are not allowed.\n",
    "However the sentence can end after an uppercase character.\n",
    "Function Name : check_sentence Input : str Output : tuple (True/False,list) eg (False,[\"There must be spaces between words.\"])"
   ]
  },
  {
   "cell_type": "code",
   "execution_count": null,
   "metadata": {},
   "outputs": [],
   "source": [
    "Approach:\n",
    "    1. Define a function to check if the sentence have two continuous spaces or not\n",
    "    2. Define a function to check if the sentence have two continuous uppercase characters or not\n",
    "    3. Define the function to check sentence if the sentence is syntactically correct or not:\n",
    "        1. if sentence first character is not uppercase then return False\n",
    "        2. if there is no space in the sentence then return False\n",
    "        3. if the last character of sentence is not full stop then return False\n",
    "        4. if there are two continuous spaces in the sentence then return False\n",
    "        5. if there are two continuous uppercase characters then return False\n",
    "    4. else return True"
   ]
  },
  {
   "cell_type": "code",
   "execution_count": 7,
   "metadata": {},
   "outputs": [
    {
     "name": "stdout",
     "output_type": "stream",
     "text": [
      "(False, ['The sentence must end with a full stop (.).'])\n"
     ]
    }
   ],
   "source": [
    "def two_cont_spaces(sentence):\n",
    "    \"\"\"\n",
    "    This function will check if the sentence has two continuous spaces or not.\n",
    "    \"\"\"\n",
    "    for i in range(len(sentence)-1):\n",
    "        if sentence[i] == \" \" and sentence[i+1] == \" \":\n",
    "            return False\n",
    "    return True\n",
    "\n",
    "def cont_upper_case(sentence):\n",
    "    \"\"\"\n",
    "    This function will check if the sentence has two continuous uppercase characters or not.\n",
    "    \"\"\"\n",
    "    for i in range(len(sentence)-1):\n",
    "        if ord(sentence[i]) >= 65 and ord(sentence[i]) <= 91 and ord(sentence[i+1]) >= 65 and ord(sentence[i+1]) <= 91:\n",
    "            return False\n",
    "    return True\n",
    "\n",
    "def check_sentence(sentence):\n",
    "    \"\"\"\n",
    "    This function will check if the sentence is syntactically correct or not.\n",
    "    \"\"\"\n",
    "    \n",
    "    # The logic:\n",
    "    if ord(sentence[0]) < 65 or ord(sentence[0]) > 91:\n",
    "        return (False, [\"Sentence must start with an uppercase character.\"])\n",
    "    if sentence.count(\" \") == 0:\n",
    "        return (False, [\"There must be spaces between words.\"])\n",
    "    if sentence[-1] != \".\":\n",
    "        return (False, [\"The sentence must end with a full stop (.).\"])\n",
    "    if not two_cont_spaces(sentence):\n",
    "        return (False, [\"Two continuous spaces are not allowed in a sentence.\"])\n",
    "    if not cont_upper_case(sentence):\n",
    "        return (False, [\"Two continuous uppercase characters are not allowed.\"])\n",
    "    return (True, [\"The sentence is syntactically correct.\"])\n",
    "\n",
    "sentence = \"Two continuous uppercase characters are not allowed\"\n",
    "print(check_sentence(sentence))"
   ]
  },
  {
   "cell_type": "code",
   "execution_count": null,
   "metadata": {},
   "outputs": [],
   "source": [
    "Question number 9:\n",
    "    \n",
    "Given an array arr[] of integers and an integer K, the task is to find the greatest contiguous sub-array of size K.\n",
    "\n",
    "Sub-array X is said to be greater than sub-array Y if the first non-matching element in both the sub-arrays has a \n",
    "greater value in X than in Y.\n",
    "\n",
    "For example : Input: arr[] = {1, 4, 3, 2, 5}, K = 4 Output: 4 3 2 5 Two subarrays are {1, 4, 3, 2} and {4, 3, 2, 5}. \n",
    "            First non-matching element from array1 and array 2 : 1 and 4 as 4 is greater Hence, the greater one is {4, 3, 2, 5}\n",
    "\n",
    "Function Name : greatest_sub_array() Input : list Output : list"
   ]
  },
  {
   "cell_type": "code",
   "execution_count": null,
   "metadata": {},
   "outputs": [],
   "source": [
    "Approach:\n",
    "    1. take an empty list sub_arrays and a variable first_max_int = arr[0], index = 0\n",
    "    2. run a loop starting from zero till len(arr)-k+1:\n",
    "        1. append arr[i:i+k] in sub_arrays\n",
    "        2. if first_max_int < arr[i:i+k][0]:\n",
    "            index = i\n",
    "    3. print(sub_arrays[index])"
   ]
  },
  {
   "cell_type": "code",
   "execution_count": 12,
   "metadata": {},
   "outputs": [
    {
     "name": "stdout",
     "output_type": "stream",
     "text": [
      "[4, 3, 2, 5]\n"
     ]
    }
   ],
   "source": [
    "def greatest_sub_array(arr,k):\n",
    "    sub_arrays = []\n",
    "    first_max_num = arr[0]\n",
    "    index = 0\n",
    "    for i in range(len(arr)-k+1):\n",
    "        sub_arrays.append(arr[i:i+k])\n",
    "        if first_max_num < arr[i:i+k][0]:\n",
    "            index = i\n",
    "            first_max_num = arr[i:i+k][0]\n",
    "    return sub_arrays[i]\n",
    "\n",
    "arr = [1, 4, 3, 2, 5]\n",
    "k = 4\n",
    "print(greatest_sub_array(arr,k))"
   ]
  },
  {
   "cell_type": "code",
   "execution_count": null,
   "metadata": {},
   "outputs": [],
   "source": [
    "Question number 10:\n",
    "    \n",
    "Given a list of N integers. The task is to eliminate the minimum number of elements such that in the resulting list \n",
    "the sum of any two adjacent values is even.\n",
    "\n",
    "Numbers = [1, 3, 5, 4, 2] Output = [1, 3, 5] Total elements removed 2 Elements to be removed [4,2]\n",
    "\n",
    "Function Name : adj_sum_even() Input : list Output : tuple(int,list)"
   ]
  },
  {
   "cell_type": "code",
   "execution_count": null,
   "metadata": {},
   "outputs": [],
   "source": [
    "Approach:\n",
    "    1. take an empty list req_arr = []\n",
    "    2. loop over the list numbers:\n",
    "        1. if the current number is even then append it in req_arr \n",
    "    3. return (number of elements removed i.e len(req_arr), list of elements removed i.e. req_arr)"
   ]
  },
  {
   "cell_type": "code",
   "execution_count": 13,
   "metadata": {},
   "outputs": [
    {
     "name": "stdout",
     "output_type": "stream",
     "text": [
      "(2, [4, 2])\n"
     ]
    }
   ],
   "source": [
    "def adj_sum_even(numbers):\n",
    "    req_arr = []\n",
    "    for item in numbers:\n",
    "        if item % 2 == 0:\n",
    "            req_arr.append(item)\n",
    "    return (len(req_arr), req_arr)\n",
    "\n",
    "numbers = [1, 3, 5, 4, 2]\n",
    "print(adj_sum_even(numbers))\n",
    "    \n",
    "        "
   ]
  },
  {
   "cell_type": "code",
   "execution_count": null,
   "metadata": {},
   "outputs": [],
   "source": []
  }
 ],
 "metadata": {
  "kernelspec": {
   "display_name": "Python 3",
   "language": "python",
   "name": "python3"
  },
  "language_info": {
   "codemirror_mode": {
    "name": "ipython",
    "version": 3
   },
   "file_extension": ".py",
   "mimetype": "text/x-python",
   "name": "python",
   "nbconvert_exporter": "python",
   "pygments_lexer": "ipython3",
   "version": "3.7.3"
  }
 },
 "nbformat": 4,
 "nbformat_minor": 2
}
