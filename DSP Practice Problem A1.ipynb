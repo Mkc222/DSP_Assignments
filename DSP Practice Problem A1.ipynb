{
 "cells": [
  {
   "cell_type": "code",
   "execution_count": null,
   "metadata": {},
   "outputs": [],
   "source": [
    "1. Given two number print their sum. However if the two numbers are same, return the double of it."
   ]
  },
  {
   "cell_type": "code",
   "execution_count": 6,
   "metadata": {},
   "outputs": [
    {
     "name": "stdout",
     "output_type": "stream",
     "text": [
      "5\n",
      "6\n",
      "11\n"
     ]
    }
   ],
   "source": [
    "num1 = int(input())  # user input first number\n",
    "num2 = int(input())  # user input second number\n",
    "if num1 == num2:     # check if the numbers are same\n",
    "    print(2 * num1)  # double the number\n",
    "else:\n",
    "    print(num1 + num2)  # Adding two number"
   ]
  },
  {
   "cell_type": "code",
   "execution_count": null,
   "metadata": {},
   "outputs": [],
   "source": [
    "2. Given two numbers, a for the purchase amount in rupees, and b for the quality of service (1 - 5) received. Calculate the tip\n",
    "    in rupees. Calculate the tip according to the following table:\n",
    "        Quality         Tip Percent\n",
    "          1                 5%\n",
    "          2                 10%\n",
    "          3                 15%\n",
    "          4                 20%\n",
    "          5                 25%"
   ]
  },
  {
   "cell_type": "code",
   "execution_count": 5,
   "metadata": {},
   "outputs": [
    {
     "name": "stdout",
     "output_type": "stream",
     "text": [
      "purchase amount in rupees500\n",
      "the quality of service (1-5)5\n",
      "125.0\n"
     ]
    }
   ],
   "source": [
    "a = int(input(\"purchase amount in rupees\"))  # a for the purchase amount in rupees\n",
    "b = int(input(\"the quality of service (1-5)\"))  # b for the quality of service (1-5) received\n",
    "\n",
    "# Conditions on b\n",
    "if b == 1:\n",
    "    tip = 5\n",
    "elif b == 2:\n",
    "    tip = 10\n",
    "elif b == 3:\n",
    "    tip = 15\n",
    "elif b == 4:\n",
    "    tip = 20\n",
    "else:\n",
    "    tip = 25\n",
    "    \n",
    "tip_amount = tip/100 * a  # Calculating tip amount\n",
    "print(tip_amount)"
   ]
  },
  {
   "cell_type": "code",
   "execution_count": null,
   "metadata": {},
   "outputs": [],
   "source": [
    "3. Given a number 'a', program to check whether the number is positive, negative, or zero."
   ]
  },
  {
   "cell_type": "code",
   "execution_count": 7,
   "metadata": {},
   "outputs": [
    {
     "name": "stdout",
     "output_type": "stream",
     "text": [
      "Enter a number:25\n",
      "The number is positive.\n"
     ]
    }
   ],
   "source": [
    "a = int(input(\"Enter a number:\"))  \n",
    "\n",
    "if a < 0:\n",
    "    print(\"The number is negative.\")\n",
    "elif a == 0:\n",
    "    print(\"The number is zero.\")\n",
    "else:\n",
    "    print(\"The number is positive.\")"
   ]
  },
  {
   "cell_type": "code",
   "execution_count": null,
   "metadata": {},
   "outputs": [],
   "source": [
    "4. Given a cost price and selling price of a product, write a program to calculate profit or loss."
   ]
  },
  {
   "cell_type": "code",
   "execution_count": 9,
   "metadata": {},
   "outputs": [
    {
     "name": "stdout",
     "output_type": "stream",
     "text": [
      "Enter the cost price of the product:500\n",
      "Enter the selling price of the product:400\n",
      "Loss amount is:  100\n"
     ]
    }
   ],
   "source": [
    "cost_price = int(input(\"Enter the cost price of the product:\"))\n",
    "selling_price = int(input(\"Enter the selling price of the product:\"))\n",
    "\n",
    "if cost_price < selling_price:    # condition for profit\n",
    "    print(\"Profit amount is: \", selling_price - cost_price)\n",
    "elif cost_price > selling_price:  # condition for loss\n",
    "    print(\"Loss amount is: \", cost_price - selling_price)\n",
    "else:\n",
    "    print(\"Neither profit nor loss\")"
   ]
  },
  {
   "cell_type": "code",
   "execution_count": null,
   "metadata": {},
   "outputs": [],
   "source": [
    "5. Write a program to input electricity unit charge and calculate the total electricity bill according to the given condition:\n",
    "    for first 50 units --> Rs. 0.50 per unit\n",
    "    for next 100 units --> Rs. 0.75 per unit\n",
    "    for next 100 units --> Rs. 1.25 per unit\n",
    "    for unit above 250 --> Rs. 1.50 per unit\n",
    "Also, an additional surcharge of 20% is added to the bill."
   ]
  },
  {
   "cell_type": "code",
   "execution_count": 12,
   "metadata": {},
   "outputs": [
    {
     "name": "stdout",
     "output_type": "stream",
     "text": [
      "Enter the electricity unit charge: 500\n",
      "Electricity bill is:  720.0\n"
     ]
    }
   ],
   "source": [
    "eunit_charge = int(input(\"Enter the electricity unit charge: \"))\n",
    "\n",
    "electricity_bill = 0\n",
    "\n",
    "# condition for first 50 units\n",
    "if eunit_charge > 50:\n",
    "    electricity_bill = electricity_bill + 50 * 0.50\n",
    "    eunit_charge = eunit_charge - 50\n",
    "else:\n",
    "    electricity_bill = electricity_bill + eunit_charge * 0.50\n",
    "    eunit_charge = 0\n",
    "\n",
    "# condition for next 100 units\n",
    "if eunit_charge > 100:\n",
    "    electricity_bill = electricity_bill + 100 * 0.75\n",
    "    eunit_charge = eunit_charge - 100\n",
    "else:\n",
    "    electricity_bill = electricity_bill + eunit_charge * 0.75\n",
    "    eunit_charge = 0\n",
    "\n",
    "# condition for next 100 units\n",
    "if eunit_charge > 100:\n",
    "    electricity_bill = electricity_bill + 100 * 1.25\n",
    "    eunit_charge = eunit_charge - 100\n",
    "else:\n",
    "    electricity_bill = electricity_bill + eunit_charge * 1.25\n",
    "    eunit_charge = 0\n",
    "\n",
    "# condition units above 250\n",
    "electricity_bill = electricity_bill + eunit_charge * 1.50\n",
    "\n",
    "# additional surcharge\n",
    "electricity_bill = electricity_bill + electricity_bill * 20/100\n",
    "\n",
    "print(\"Electricity bill is: \", electricity_bill)"
   ]
  },
  {
   "cell_type": "code",
   "execution_count": null,
   "metadata": {},
   "outputs": [],
   "source": [
    "6. Write a program to input basic salary of an employee and calculate gross salary according to given conditions:\n",
    "    Basic salary <= 10000 --> HRA: 20% and DA: 80%\n",
    "    Basic salary between 10001 to 20000 --> HRA: 25% and DA: 90%\n",
    "    Basic salary > 20000 --> HRA: 30% and DA: 95%"
   ]
  },
  {
   "cell_type": "code",
   "execution_count": 13,
   "metadata": {},
   "outputs": [
    {
     "name": "stdout",
     "output_type": "stream",
     "text": [
      "Enter the basic salary of an employee: 10000\n",
      "Gross salary of the employee is:  20000.0\n"
     ]
    }
   ],
   "source": [
    "basic_salary = int(input(\"Enter the basic salary of an employee: \"))\n",
    "\n",
    "# Conditions on the basic salaries\n",
    "if basic_salary <= 10000:\n",
    "    gross_salary = basic_salary + (20/100 + 80/100) * basic_salary\n",
    "elif basic_salary <= 20000:\n",
    "    gross_salary = basic_salary + (25/100 + 90/100) * basic_salary\n",
    "else:\n",
    "    gross_salary = basic_salary + (30/100 + 95/100) * basic_salary\n",
    "    \n",
    "print(\"Gross salary of the employee is: \", gross_salary)"
   ]
  },
  {
   "cell_type": "code",
   "execution_count": null,
   "metadata": {},
   "outputs": [],
   "source": [
    "7. Write a program to count total number of notes in given amount.\n",
    "    Valid notes: 10, 20, 50, 100, 500, 2000\n",
    "        For example:\n",
    "            amount: 2510, expected output: 2000: 1, 500: 1, 10: 1 "
   ]
  },
  {
   "cell_type": "code",
   "execution_count": 15,
   "metadata": {},
   "outputs": [
    {
     "name": "stdout",
     "output_type": "stream",
     "text": [
      "Enter the amount: 5570\n",
      "2000:  2\n",
      "500:  3\n",
      "50:  1\n",
      "20:  1\n"
     ]
    }
   ],
   "source": [
    "amount = int(input(\"Enter the amount: \"))\n",
    "\n",
    "# find the count of notes of each category\n",
    "if amount >= 2000:\n",
    "    print(\"2000: \", amount // 2000)\n",
    "    amount = amount % 2000\n",
    "if amount >= 500:\n",
    "    print(\"500: \", amount // 500)\n",
    "    amount = amount % 500\n",
    "if amount >= 100:\n",
    "    print(\"100: \", amount // 100)\n",
    "    amount = amount % 100\n",
    "if amount >= 50:\n",
    "    print(\"50: \", amount // 50)\n",
    "    amount = amount % 50\n",
    "if amount >= 20:\n",
    "    print(\"20: \", amount // 20)\n",
    "    amount = amount % 20\n",
    "if amount >= 10:\n",
    "    print(\"10: \", amount // 10)\n",
    "    amount = amount % 10"
   ]
  },
  {
   "cell_type": "code",
   "execution_count": null,
   "metadata": {},
   "outputs": [],
   "source": [
    "8. Write a program to check whether the triangle is valid or not if angles are given.\n",
    "Valid triangle: Sum of all angles is 180\n",
    "    All the angles should be greater than zero."
   ]
  },
  {
   "cell_type": "code",
   "execution_count": 16,
   "metadata": {},
   "outputs": [
    {
     "name": "stdout",
     "output_type": "stream",
     "text": [
      "Enter the first angle: 15\n",
      "Enter the second angle: 45\n",
      "Enter the third angle: 120\n",
      "The triangle is valid\n"
     ]
    }
   ],
   "source": [
    "first_angle = float(input(\"Enter the first angle: \"))\n",
    "sec_angle = float(input(\"Enter the second angle: \"))\n",
    "third_angle = float(input(\"Enter the third angle: \"))\n",
    "\n",
    "# condition to check whether the triangle is valid or not\n",
    "if first_angle > 0 and sec_angle > 0 and third_angle > 0 and first_angle + sec_angle + third_angle == 180:\n",
    "    print(\"The triangle is valid\")\n",
    "else:\n",
    "    print(\"The triangle is not valid\")"
   ]
  },
  {
   "cell_type": "code",
   "execution_count": null,
   "metadata": {},
   "outputs": [],
   "source": [
    "9. Write a program to check if the given year is leap year or not."
   ]
  },
  {
   "cell_type": "code",
   "execution_count": 20,
   "metadata": {},
   "outputs": [
    {
     "name": "stdout",
     "output_type": "stream",
     "text": [
      "Enter the year: 1700\n",
      "It is not a leap year\n"
     ]
    }
   ],
   "source": [
    "year = int(input(\"Enter the year: \"))\n",
    "\n",
    "# condition to check if the year is leap year or not:\n",
    "# 1. if the year is divisible by 400\n",
    "# 2. if the year is divisible by 4 and not divisible by 100\n",
    "if year % 400 == 0:\n",
    "    print(\"It is a leap year\")\n",
    "elif year % 4 == 0 and year % 100 != 0:\n",
    "    print(\"It is a leap year\")\n",
    "else:\n",
    "    print(\"It is not a leap year\")"
   ]
  },
  {
   "cell_type": "code",
   "execution_count": null,
   "metadata": {},
   "outputs": [],
   "source": [
    "10. Write a program to check whether the given triangle is equilateral, isosceles or scalene. A triangle is said equilateral \n",
    "    triangle if all of its sides are equal. A triangle is said to be isosceles if two of its sides are equal. A triangle is \n",
    "    said to be scalene if not any two sides are equal."
   ]
  },
  {
   "cell_type": "code",
   "execution_count": 26,
   "metadata": {},
   "outputs": [
    {
     "name": "stdout",
     "output_type": "stream",
     "text": [
      "First side of the traingle: 3\n",
      "Second side of the triangle: 5\n",
      "Third side of the triangle: 4\n",
      "It is a scalene triangle\n"
     ]
    }
   ],
   "source": [
    "first_side = float(input(\"First side of the traingle: \"))\n",
    "sec_side = float(input(\"Second side of the triangle: \"))\n",
    "third_side = float(input(\"Third side of the triangle: \"))\n",
    "\n",
    "# Conditions to check if the given triangle is valid or not\n",
    "if (first_side + sec_side >= third_side) and (first_side + third_side >= sec_side) and (sec_side + third_side >= first_side):\n",
    "    \n",
    "    # Condition to check equilateral, isosceles and scalene\n",
    "    if first_side == sec_side == third_side:\n",
    "        print(\"It is an equilateral triangle\")\n",
    "    elif first_side == sec_side or sec_side == third_side or first_side == third_side:\n",
    "        print(\"It is an isosceles triangle\")\n",
    "    else:\n",
    "        print(\"It is a scalene triangle\")\n",
    "        \n",
    "else:\n",
    "    print(\"The given triangle is not a valid triangle\")"
   ]
  }
 ],
 "metadata": {
  "kernelspec": {
   "display_name": "Python 3",
   "language": "python",
   "name": "python3"
  },
  "language_info": {
   "codemirror_mode": {
    "name": "ipython",
    "version": 3
   },
   "file_extension": ".py",
   "mimetype": "text/x-python",
   "name": "python",
   "nbconvert_exporter": "python",
   "pygments_lexer": "ipython3",
   "version": "3.7.3"
  }
 },
 "nbformat": 4,
 "nbformat_minor": 2
}
