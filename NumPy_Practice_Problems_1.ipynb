{
 "cells": [
  {
   "cell_type": "markdown",
   "metadata": {},
   "source": [
    "## 1. Write a NumPy program to get the numpy version and show numpy build configuration."
   ]
  },
  {
   "cell_type": "code",
   "execution_count": 3,
   "metadata": {},
   "outputs": [
    {
     "name": "stdout",
     "output_type": "stream",
     "text": [
      "1.16.4\n",
      "<module 'numpy.__config__' from 'c:\\\\users\\\\manishkc\\\\appdata\\\\local\\\\programs\\\\python\\\\python37\\\\lib\\\\site-packages\\\\numpy\\\\__config__.py'>\n"
     ]
    }
   ],
   "source": [
    "import numpy as np\n",
    "print(np.version.version)\n",
    "print(np.__config__)"
   ]
  },
  {
   "cell_type": "markdown",
   "metadata": {},
   "source": [
    "## 2. Create a null vector of size 10 but the fifth value which is 1."
   ]
  },
  {
   "cell_type": "code",
   "execution_count": 6,
   "metadata": {},
   "outputs": [
    {
     "name": "stdout",
     "output_type": "stream",
     "text": [
      "[0. 0. 0. 0. 1. 0. 0. 0. 0. 0.]\n"
     ]
    }
   ],
   "source": [
    "ten_zeros = np.zeros(10)\n",
    "ten_zeros[4] = 1\n",
    "print(ten_zeros)"
   ]
  },
  {
   "cell_type": "markdown",
   "metadata": {},
   "source": [
    "## Create a vector with values ranging from 10 to 49."
   ]
  },
  {
   "cell_type": "code",
   "execution_count": 7,
   "metadata": {},
   "outputs": [
    {
     "name": "stdout",
     "output_type": "stream",
     "text": [
      "[10 11 12 13 14 15 16 17 18 19 20 21 22 23 24 25 26 27 28 29 30 31 32 33\n",
      " 34 35 36 37 38 39 40 41 42 43 44 45 46 47 48 49]\n"
     ]
    }
   ],
   "source": [
    "vect = np.arange(10,50)\n",
    "print(vect)"
   ]
  },
  {
   "cell_type": "markdown",
   "metadata": {},
   "source": [
    "## 3. create two arrays and stack them vertically"
   ]
  },
  {
   "cell_type": "code",
   "execution_count": 8,
   "metadata": {},
   "outputs": [
    {
     "name": "stdout",
     "output_type": "stream",
     "text": [
      "[[57 94 41 25]\n",
      " [92 76 15 57]\n",
      " [20 13 50 53]\n",
      " [81 39 45 44]\n",
      " [81 58 88 85]\n",
      " [75 85 47 77]\n",
      " [13 92 82 43]\n",
      " [33 79 72 27]\n",
      " [32 13 99 51]]\n"
     ]
    }
   ],
   "source": [
    "a = np.random.randint(10,100,(5,4))\n",
    "b = np.random.randint(10,100,(4,4))\n",
    "c = np.vstack([a,b])\n",
    "print(c)"
   ]
  },
  {
   "cell_type": "markdown",
   "metadata": {},
   "source": [
    "## 4. Reverse a vector (first element becomes last)."
   ]
  },
  {
   "cell_type": "code",
   "execution_count": 10,
   "metadata": {},
   "outputs": [
    {
     "name": "stdout",
     "output_type": "stream",
     "text": [
      "[49 48 47 46 45 44 43 42 41 40 39 38 37 36 35 34 33 32 31 30 29 28 27 26\n",
      " 25 24 23 22 21 20 19 18 17 16 15 14 13 12 11 10]\n"
     ]
    }
   ],
   "source": [
    "vect = np.arange(10,50)\n",
    "vect = vect[::-1]\n",
    "print(vect)"
   ]
  },
  {
   "cell_type": "markdown",
   "metadata": {},
   "source": [
    "## 5. Create a 3x3 matrix with values ranging from 0 to 8"
   ]
  },
  {
   "cell_type": "code",
   "execution_count": 11,
   "metadata": {},
   "outputs": [
    {
     "name": "stdout",
     "output_type": "stream",
     "text": [
      "[[7 1 1]\n",
      " [3 4 5]\n",
      " [3 1 5]]\n"
     ]
    }
   ],
   "source": [
    "mat = np.random.randint(0,9,(3,3))\n",
    "print(mat)"
   ]
  },
  {
   "cell_type": "markdown",
   "metadata": {},
   "source": [
    "## 6. Find indices of non-zero elements from [1,2,0,0,4,0]"
   ]
  },
  {
   "cell_type": "code",
   "execution_count": 13,
   "metadata": {},
   "outputs": [
    {
     "name": "stdout",
     "output_type": "stream",
     "text": [
      "(array([0, 1, 4], dtype=int64),)\n"
     ]
    }
   ],
   "source": [
    "a = [1,2,0,0,4,0]\n",
    "print(np.nonzero(a))"
   ]
  },
  {
   "cell_type": "markdown",
   "metadata": {},
   "source": [
    "## 7. Create a 10x10 array with random values and find the minimum and maximum values."
   ]
  },
  {
   "cell_type": "code",
   "execution_count": 17,
   "metadata": {},
   "outputs": [
    {
     "name": "stdout",
     "output_type": "stream",
     "text": [
      "[[252 359 984 989 498 600 647 580 806  52]\n",
      " [898 595 599 316 290 737  15 441  25  62]\n",
      " [818 429 247 434 804 295 940 397 661 179]\n",
      " [138 200 218 487 796 141 615  55 368 575]\n",
      " [475 647 910 569 544 595 768 974 847 469]\n",
      " [108 253 914 511 357 277 810 975 673 799]\n",
      " [989 684 905 540  46 711 319 390 707  94]\n",
      " [665 740 826 828 238 270 632 680 916 753]\n",
      " [287  11 202 963 701 583 239 494 217  74]\n",
      " [591 299 785 754 459 418 731 149 829 492]]\n"
     ]
    },
    {
     "data": {
      "text/plain": [
       "11"
      ]
     },
     "execution_count": 17,
     "metadata": {},
     "output_type": "execute_result"
    }
   ],
   "source": [
    "a = np.random.randint(1,1000,(10,10))\n",
    "print(a)\n",
    "np.amin(a)"
   ]
  },
  {
   "cell_type": "code",
   "execution_count": 18,
   "metadata": {},
   "outputs": [
    {
     "data": {
      "text/plain": [
       "989"
      ]
     },
     "execution_count": 18,
     "metadata": {},
     "output_type": "execute_result"
    }
   ],
   "source": [
    "np.amax(a)"
   ]
  },
  {
   "cell_type": "markdown",
   "metadata": {},
   "source": [
    "## 8. Create a random vector of size 30 and find the mean value."
   ]
  },
  {
   "cell_type": "code",
   "execution_count": 21,
   "metadata": {},
   "outputs": [],
   "source": [
    "vect = np.random.randint(1,50,30)"
   ]
  },
  {
   "cell_type": "code",
   "execution_count": 22,
   "metadata": {},
   "outputs": [
    {
     "name": "stdout",
     "output_type": "stream",
     "text": [
      "[ 2 46 22 43 23  7 32 45 29 16 47 43 32 43 38 24  7 46 22 28  8 46 16 34\n",
      "  1  2 31 45 22 38]\n"
     ]
    }
   ],
   "source": [
    "print(vect)"
   ]
  },
  {
   "cell_type": "code",
   "execution_count": 23,
   "metadata": {},
   "outputs": [
    {
     "data": {
      "text/plain": [
       "27.933333333333334"
      ]
     },
     "execution_count": 23,
     "metadata": {},
     "output_type": "execute_result"
    }
   ],
   "source": [
    "vect.mean()"
   ]
  },
  {
   "cell_type": "markdown",
   "metadata": {},
   "source": [
    "## 9. Create a 2d array with 1 on the border and 0 inside"
   ]
  },
  {
   "cell_type": "code",
   "execution_count": 26,
   "metadata": {},
   "outputs": [],
   "source": [
    "array = np.ones((10,10))"
   ]
  },
  {
   "cell_type": "code",
   "execution_count": 27,
   "metadata": {},
   "outputs": [
    {
     "name": "stdout",
     "output_type": "stream",
     "text": [
      "[[1. 1. 1. 1. 1. 1. 1. 1. 1. 1.]\n",
      " [1. 0. 0. 0. 0. 0. 0. 0. 0. 1.]\n",
      " [1. 0. 0. 0. 0. 0. 0. 0. 0. 1.]\n",
      " [1. 0. 0. 0. 0. 0. 0. 0. 0. 1.]\n",
      " [1. 0. 0. 0. 0. 0. 0. 0. 0. 1.]\n",
      " [1. 0. 0. 0. 0. 0. 0. 0. 0. 1.]\n",
      " [1. 0. 0. 0. 0. 0. 0. 0. 0. 1.]\n",
      " [1. 0. 0. 0. 0. 0. 0. 0. 0. 1.]\n",
      " [1. 0. 0. 0. 0. 0. 0. 0. 0. 1.]\n",
      " [1. 1. 1. 1. 1. 1. 1. 1. 1. 1.]]\n"
     ]
    }
   ],
   "source": [
    "array[1:-1,1:-1] = 0\n",
    "print(array)"
   ]
  },
  {
   "cell_type": "markdown",
   "metadata": {},
   "source": [
    "## 10. How to add a border (filled with 0's) around an existing array"
   ]
  },
  {
   "cell_type": "code",
   "execution_count": 37,
   "metadata": {},
   "outputs": [
    {
     "name": "stdout",
     "output_type": "stream",
     "text": [
      "[[0. 0. 0. 0. 0. 0. 0. 0. 0. 0.]\n",
      " [0. 1. 1. 1. 1. 1. 1. 1. 1. 0.]\n",
      " [0. 1. 1. 1. 1. 1. 1. 1. 1. 0.]\n",
      " [0. 1. 1. 1. 1. 1. 1. 1. 1. 0.]\n",
      " [0. 1. 1. 1. 1. 1. 1. 1. 1. 0.]\n",
      " [0. 1. 1. 1. 1. 1. 1. 1. 1. 0.]\n",
      " [0. 1. 1. 1. 1. 1. 1. 1. 1. 0.]\n",
      " [0. 1. 1. 1. 1. 1. 1. 1. 1. 0.]\n",
      " [0. 1. 1. 1. 1. 1. 1. 1. 1. 0.]\n",
      " [0. 0. 0. 0. 0. 0. 0. 0. 0. 0.]]\n"
     ]
    }
   ],
   "source": [
    "array = np.ones((10,10))\n",
    "array[[0,9]] = 0\n",
    "array[:,[0,9]] = 0\n",
    "print(array)"
   ]
  },
  {
   "cell_type": "markdown",
   "metadata": {},
   "source": [
    "## 11. Create a 5x5 matrix with values 1,2,3,4 just below the diagonal"
   ]
  },
  {
   "cell_type": "code",
   "execution_count": 38,
   "metadata": {},
   "outputs": [
    {
     "name": "stdout",
     "output_type": "stream",
     "text": [
      "[[0. 0. 0. 0. 0.]\n",
      " [1. 0. 0. 0. 0.]\n",
      " [0. 2. 0. 0. 0.]\n",
      " [0. 0. 3. 0. 0.]\n",
      " [0. 0. 0. 4. 0.]]\n"
     ]
    }
   ],
   "source": [
    "matrix = np.zeros((5,5))\n",
    "for i in range(1,len(matrix)):\n",
    "    matrix[i][i-1] = i\n",
    "print(matrix)"
   ]
  },
  {
   "cell_type": "markdown",
   "metadata": {},
   "source": [
    "## 12. Create a 5*5 matrix with random values and normalize it."
   ]
  },
  {
   "cell_type": "code",
   "execution_count": 46,
   "metadata": {},
   "outputs": [
    {
     "name": "stdout",
     "output_type": "stream",
     "text": [
      "[[0.97255118 0.40726821 0.04988216 0.06769128 0.85880183]\n",
      " [0.16822655 0.6528508  0.04940001 0.05604598 0.41267089]\n",
      " [0.58862351 0.46529441 0.44888346 0.89429936 0.28657908]\n",
      " [0.28980544 0.99196135 0.25737273 0.36657111 0.77087939]\n",
      " [0.5427264  0.51196745 0.26254468 0.17035005 0.24651383]]\n",
      "______________________________________________________________\n",
      "[[9.79406992e-01 3.79676306e-01 5.11533178e-04 1.94059283e-02\n",
      "  8.58725888e-01]\n",
      " [1.26067707e-01 6.40224427e-01 0.00000000e+00 7.05097643e-03\n",
      "  3.85408211e-01]\n",
      " [5.72083197e-01 4.41238552e-01 4.23827541e-01 8.96386594e-01\n",
      "  2.51632513e-01]\n",
      " [2.55055482e-01 1.00000000e+00 2.20646356e-01 3.36499161e-01\n",
      "  7.65445545e-01]\n",
      " [5.23389167e-01 4.90755795e-01 2.26133475e-01 1.28320603e-01\n",
      "  2.09125723e-01]]\n"
     ]
    }
   ],
   "source": [
    "random = np.random.rand(5,5)\n",
    "print(random)\n",
    "print(\"______________________________________________________________\")\n",
    "rand_min = np.amin(random)\n",
    "rand_max = np.amax(random)\n",
    "normalized_matrix = (random - rand_min) / (rand_max - rand_min)\n",
    "print(normalized_matrix)"
   ]
  },
  {
   "cell_type": "markdown",
   "metadata": {},
   "source": [
    "## 13. How to find common values between two arrays"
   ]
  },
  {
   "cell_type": "code",
   "execution_count": 58,
   "metadata": {},
   "outputs": [
    {
     "name": "stdout",
     "output_type": "stream",
     "text": [
      "[[13 13 11 11 15]]\n",
      "__________________________________________________________\n",
      "[[10 13 15 10 13]]\n",
      "___________________________________________________________\n",
      "[13 15]\n"
     ]
    }
   ],
   "source": [
    "array1 = np.random.randint(10,16,(1,5))\n",
    "print(array1)\n",
    "print(\"__________________________________________________________\")\n",
    "array2 = np.random.randint(10,16,(1,5))\n",
    "print(array2)\n",
    "print(\"___________________________________________________________\")\n",
    "print(np.intersect1d(array1,array2))"
   ]
  },
  {
   "cell_type": "markdown",
   "metadata": {},
   "source": [
    "## 14. Consider a generator function that generates 10 integers and use it to build an array"
   ]
  },
  {
   "cell_type": "code",
   "execution_count": 108,
   "metadata": {},
   "outputs": [
    {
     "name": "stdout",
     "output_type": "stream",
     "text": [
      "[ 1.  2.  3.  5.  8. 13. 21. 34. 55. 89.]\n"
     ]
    }
   ],
   "source": [
    "def generate_fibonacci(n):\n",
    "    \"\"\"\n",
    "    This function is a generator funciton which will generate fibonacci numbers.\n",
    "    \"\"\"\n",
    "    first_num = 0\n",
    "    sec_num = 1 \n",
    "    while n:\n",
    "        next_num = first_num + sec_num\n",
    "        yield next_num\n",
    "        first_num,sec_num = sec_num,next_num\n",
    "        n -= 1\n",
    "        \n",
    "\n",
    "array = np.fromiter(generate_fibonacci(10), dtype = float)\n",
    "print(array)"
   ]
  },
  {
   "cell_type": "markdown",
   "metadata": {},
   "source": [
    "## 15. Subtract the mean of each row of a matrix"
   ]
  },
  {
   "cell_type": "code",
   "execution_count": 111,
   "metadata": {},
   "outputs": [
    {
     "name": "stdout",
     "output_type": "stream",
     "text": [
      "[[0.06063114 0.54919737 0.6546484  0.94823036 0.42136849 0.59354975]\n",
      " [0.53499595 0.76897938 0.8437651  0.65050587 0.32670641 0.09832407]\n",
      " [0.45537802 0.40651796 0.21548132 0.0284295  0.69891557 0.98485694]\n",
      " [0.18400947 0.89887824 0.82504526 0.11015901 0.59681532 0.84823442]\n",
      " [0.86307977 0.54675021 0.07936609 0.43514162 0.94260322 0.58033286]]\n",
      "_________________________________________\n",
      "0.5379375858883096\n",
      "[[-0.47730645  0.01125979  0.11671082  0.41029277 -0.11656909  0.05561216]\n",
      " [-0.00294164  0.23104179  0.30582751  0.11256828 -0.21123118 -0.43961352]\n",
      " [-0.08255957 -0.13141963 -0.32245626 -0.50950809  0.16097799  0.44691936]\n",
      " [-0.35392812  0.36094065  0.28710768 -0.42777857  0.05887774  0.31029684]\n",
      " [ 0.32514218  0.00881262 -0.4585715  -0.10279597  0.40466564  0.04239528]]\n",
      "________________________________________________________________________________________\n",
      "-0.0007247905884108508\n",
      "[[-0.47658166  0.01198458  0.11743561  0.41101756 -0.1158443   0.05633696]\n",
      " [-0.00221685  0.23176658  0.3065523   0.11329307 -0.21050639 -0.43888872]\n",
      " [-0.08183478 -0.13069484 -0.32173147 -0.5087833   0.16170278  0.44764415]\n",
      " [-0.35320333  0.36166544  0.28783247 -0.42705378  0.05960253  0.31102163]\n",
      " [ 0.32586697  0.00953742 -0.45784671 -0.10207118  0.40539043  0.04312007]]\n",
      "________________________________________________________________________________________\n",
      "-0.07228290927047036\n",
      "[[-0.40429875  0.08426748  0.18971852  0.48330047 -0.04356139  0.12861986]\n",
      " [ 0.07006606  0.30404949  0.37883521  0.18557598 -0.13822348 -0.36660582]\n",
      " [-0.00955187 -0.05841193 -0.24944856 -0.43650039  0.23398569  0.51992706]\n",
      " [-0.28092042  0.43394835  0.36011538 -0.35477087  0.13188544  0.38330454]\n",
      " [ 0.39814988  0.08182032 -0.3855638  -0.02978827  0.47767334  0.11540298]]\n",
      "________________________________________________________________________________________\n",
      "0.11226040218410988\n",
      "[[-0.51655915 -0.02799292  0.07745811  0.37104007 -0.15582179  0.01635946]\n",
      " [-0.04219434  0.19178909  0.26657481  0.07331558 -0.25048388 -0.47886622]\n",
      " [-0.12181227 -0.17067233 -0.36170896 -0.54876079  0.12172529  0.40766665]\n",
      " [-0.39318082  0.32168795  0.24785497 -0.46703127  0.01962503  0.27104414]\n",
      " [ 0.28588948 -0.03044008 -0.4978242  -0.14204867  0.36541293  0.00314258]]\n",
      "________________________________________________________________________________________\n",
      "-0.002644659868004553\n",
      "[[-0.51391449 -0.02534826  0.08010277  0.37368473 -0.15317713  0.01900412]\n",
      " [-0.03954968  0.19443375  0.26921947  0.07596024 -0.24783922 -0.47622156]\n",
      " [-0.11916761 -0.16802767 -0.3590643  -0.54611613  0.12436995  0.41031131]\n",
      " [-0.39053616  0.32433261  0.25049963 -0.46438661  0.02226969  0.2736888 ]\n",
      " [ 0.28853414 -0.02779542 -0.49517954 -0.13940401  0.36805759  0.00578724]]\n",
      "________________________________________________________________________________________\n",
      "[[-0.47730645  0.01125979  0.11671082  0.41029277 -0.11656909  0.05561216]\n",
      " [-0.00221685  0.23176658  0.3065523   0.11329307 -0.21050639 -0.43888872]\n",
      " [-0.00955187 -0.05841193 -0.24944856 -0.43650039  0.23398569  0.51992706]\n",
      " [-0.39318082  0.32168795  0.24785497 -0.46703127  0.01962503  0.27104414]\n",
      " [ 0.28853414 -0.02779542 -0.49517954 -0.13940401  0.36805759  0.00578724]]\n"
     ]
    }
   ],
   "source": [
    "a = np.random.rand(5,6)\n",
    "print(a)\n",
    "print(\"_________________________________________\")\n",
    "for item in a:\n",
    "    row_mean = np.mean(item)\n",
    "    print(row_mean)\n",
    "    a -= row_mean\n",
    "    print(a)\n",
    "    print(\"________________________________________________________________________________________\")\n",
    "    \n",
    "# if the question is to subtract the mean of each row from row's respective elements:\n",
    "    \n",
    "print(a - a.mean(axis = 1,keepdims = True))"
   ]
  },
  {
   "cell_type": "markdown",
   "metadata": {},
   "source": [
    "## 16. Considering two arrays with shape (1,3) and (3,1), how to compute their sum using an iterator?"
   ]
  },
  {
   "cell_type": "code",
   "execution_count": 100,
   "metadata": {},
   "outputs": [
    {
     "name": "stdout",
     "output_type": "stream",
     "text": [
      "[[4 9 8]]\n",
      "[[4]\n",
      " [2]\n",
      " [9]]\n",
      "___________________\n",
      "[[ 8 13 12]\n",
      " [ 6 11 10]\n",
      " [13 18 17]]\n"
     ]
    }
   ],
   "source": [
    "a = np.random.randint(1,10,(1,3))\n",
    "b = np.random.randint(1,10,(3,1))\n",
    "print(a)\n",
    "print(b)\n",
    "print(\"___________________\")\n",
    "print(sum(a,b))"
   ]
  },
  {
   "cell_type": "markdown",
   "metadata": {},
   "source": [
    "## 17. Write a NumPy program to create a vector of length 10 with values evenly distributed between 5 and 50."
   ]
  },
  {
   "cell_type": "code",
   "execution_count": 94,
   "metadata": {},
   "outputs": [],
   "source": [
    "vect = np.linspace(5,50,10)"
   ]
  },
  {
   "cell_type": "code",
   "execution_count": 95,
   "metadata": {},
   "outputs": [
    {
     "name": "stdout",
     "output_type": "stream",
     "text": [
      "[ 5. 10. 15. 20. 25. 30. 35. 40. 45. 50.]\n"
     ]
    }
   ],
   "source": [
    "print(vect)"
   ]
  },
  {
   "cell_type": "code",
   "execution_count": null,
   "metadata": {},
   "outputs": [],
   "source": []
  }
 ],
 "metadata": {
  "kernelspec": {
   "display_name": "Python 3",
   "language": "python",
   "name": "python3"
  },
  "language_info": {
   "codemirror_mode": {
    "name": "ipython",
    "version": 3
   },
   "file_extension": ".py",
   "mimetype": "text/x-python",
   "name": "python",
   "nbconvert_exporter": "python",
   "pygments_lexer": "ipython3",
   "version": "3.7.3"
  }
 },
 "nbformat": 4,
 "nbformat_minor": 2
}
